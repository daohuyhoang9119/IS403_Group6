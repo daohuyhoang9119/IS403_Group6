{
  "cells": [
    {
      "cell_type": "code",
      "source": [
        "# 1. Các thư viện cần thiết\n",
        "import numpy as np\n",
        "import pandas as pd\n",
        "import matplotlib.pyplot as plt\n",
        "\n",
        "from sklearn.preprocessing import MinMaxScaler\n",
        "from sklearn.linear_model import LinearRegression\n",
        "from statsmodels.tsa.stattools import adfuller"
      ],
      "metadata": {
        "id": "bAxbF31GyTg5"
      },
      "execution_count": 6,
      "outputs": []
    },
    {
      "cell_type": "code",
      "source": [
        "data = pd.read_csv('/content/BTC-USD.csv',index_col = \"Date\", parse_dates = True)\n",
        "data"
      ],
      "metadata": {
        "colab": {
          "base_uri": "https://localhost:8080/",
          "height": 455
        },
        "id": "F5cWZ63ezdHN",
        "outputId": "539d831e-1bbc-4d26-9c1b-b8c712035dd9"
      },
      "execution_count": 51,
      "outputs": [
        {
          "output_type": "execute_result",
          "data": {
            "text/plain": [
              "                    Open          High           Low         Close  \\\n",
              "Date                                                                 \n",
              "2017-01-11    908.114990    919.447998    762.765015    777.757019   \n",
              "2017-01-12    775.177979    826.245972    755.755981    804.833984   \n",
              "2017-01-13    803.737000    829.000977    780.002991    823.984009   \n",
              "2017-01-14    825.142029    835.085022    812.455994    818.411987   \n",
              "2017-01-15    818.142029    823.307007    812.870972    821.797974   \n",
              "...                  ...           ...           ...           ...   \n",
              "2023-01-07  16952.117188  16975.017578  16914.191406  16955.078125   \n",
              "2023-01-08  16954.146484  17091.144531  16924.050781  17091.144531   \n",
              "2023-01-09  17093.992188  17389.957031  17093.992188  17196.554688   \n",
              "2023-01-10  17192.949219  17484.720703  17162.990234  17446.292969   \n",
              "2023-01-11  17446.359375  17934.896484  17337.994141  17934.896484   \n",
              "\n",
              "               Adj Close       Volume  \n",
              "Date                                   \n",
              "2017-01-11    777.757019    310928992  \n",
              "2017-01-12    804.833984    222326000  \n",
              "2017-01-13    823.984009    168968000  \n",
              "2017-01-14    818.411987     93063296  \n",
              "2017-01-15    821.797974     71013600  \n",
              "...                  ...          ...  \n",
              "2023-01-07  16955.078125   7714767174  \n",
              "2023-01-08  17091.144531   9768827914  \n",
              "2023-01-09  17196.554688  18624736866  \n",
              "2023-01-10  17446.292969  15808338949  \n",
              "2023-01-11  17934.896484  18372283782  \n",
              "\n",
              "[2192 rows x 6 columns]"
            ],
            "text/html": [
              "\n",
              "  <div id=\"df-a1c1a2e3-cde3-4a1a-be4a-b3793a7345c8\" class=\"colab-df-container\">\n",
              "    <div>\n",
              "<style scoped>\n",
              "    .dataframe tbody tr th:only-of-type {\n",
              "        vertical-align: middle;\n",
              "    }\n",
              "\n",
              "    .dataframe tbody tr th {\n",
              "        vertical-align: top;\n",
              "    }\n",
              "\n",
              "    .dataframe thead th {\n",
              "        text-align: right;\n",
              "    }\n",
              "</style>\n",
              "<table border=\"1\" class=\"dataframe\">\n",
              "  <thead>\n",
              "    <tr style=\"text-align: right;\">\n",
              "      <th></th>\n",
              "      <th>Open</th>\n",
              "      <th>High</th>\n",
              "      <th>Low</th>\n",
              "      <th>Close</th>\n",
              "      <th>Adj Close</th>\n",
              "      <th>Volume</th>\n",
              "    </tr>\n",
              "    <tr>\n",
              "      <th>Date</th>\n",
              "      <th></th>\n",
              "      <th></th>\n",
              "      <th></th>\n",
              "      <th></th>\n",
              "      <th></th>\n",
              "      <th></th>\n",
              "    </tr>\n",
              "  </thead>\n",
              "  <tbody>\n",
              "    <tr>\n",
              "      <th>2017-01-11</th>\n",
              "      <td>908.114990</td>\n",
              "      <td>919.447998</td>\n",
              "      <td>762.765015</td>\n",
              "      <td>777.757019</td>\n",
              "      <td>777.757019</td>\n",
              "      <td>310928992</td>\n",
              "    </tr>\n",
              "    <tr>\n",
              "      <th>2017-01-12</th>\n",
              "      <td>775.177979</td>\n",
              "      <td>826.245972</td>\n",
              "      <td>755.755981</td>\n",
              "      <td>804.833984</td>\n",
              "      <td>804.833984</td>\n",
              "      <td>222326000</td>\n",
              "    </tr>\n",
              "    <tr>\n",
              "      <th>2017-01-13</th>\n",
              "      <td>803.737000</td>\n",
              "      <td>829.000977</td>\n",
              "      <td>780.002991</td>\n",
              "      <td>823.984009</td>\n",
              "      <td>823.984009</td>\n",
              "      <td>168968000</td>\n",
              "    </tr>\n",
              "    <tr>\n",
              "      <th>2017-01-14</th>\n",
              "      <td>825.142029</td>\n",
              "      <td>835.085022</td>\n",
              "      <td>812.455994</td>\n",
              "      <td>818.411987</td>\n",
              "      <td>818.411987</td>\n",
              "      <td>93063296</td>\n",
              "    </tr>\n",
              "    <tr>\n",
              "      <th>2017-01-15</th>\n",
              "      <td>818.142029</td>\n",
              "      <td>823.307007</td>\n",
              "      <td>812.870972</td>\n",
              "      <td>821.797974</td>\n",
              "      <td>821.797974</td>\n",
              "      <td>71013600</td>\n",
              "    </tr>\n",
              "    <tr>\n",
              "      <th>...</th>\n",
              "      <td>...</td>\n",
              "      <td>...</td>\n",
              "      <td>...</td>\n",
              "      <td>...</td>\n",
              "      <td>...</td>\n",
              "      <td>...</td>\n",
              "    </tr>\n",
              "    <tr>\n",
              "      <th>2023-01-07</th>\n",
              "      <td>16952.117188</td>\n",
              "      <td>16975.017578</td>\n",
              "      <td>16914.191406</td>\n",
              "      <td>16955.078125</td>\n",
              "      <td>16955.078125</td>\n",
              "      <td>7714767174</td>\n",
              "    </tr>\n",
              "    <tr>\n",
              "      <th>2023-01-08</th>\n",
              "      <td>16954.146484</td>\n",
              "      <td>17091.144531</td>\n",
              "      <td>16924.050781</td>\n",
              "      <td>17091.144531</td>\n",
              "      <td>17091.144531</td>\n",
              "      <td>9768827914</td>\n",
              "    </tr>\n",
              "    <tr>\n",
              "      <th>2023-01-09</th>\n",
              "      <td>17093.992188</td>\n",
              "      <td>17389.957031</td>\n",
              "      <td>17093.992188</td>\n",
              "      <td>17196.554688</td>\n",
              "      <td>17196.554688</td>\n",
              "      <td>18624736866</td>\n",
              "    </tr>\n",
              "    <tr>\n",
              "      <th>2023-01-10</th>\n",
              "      <td>17192.949219</td>\n",
              "      <td>17484.720703</td>\n",
              "      <td>17162.990234</td>\n",
              "      <td>17446.292969</td>\n",
              "      <td>17446.292969</td>\n",
              "      <td>15808338949</td>\n",
              "    </tr>\n",
              "    <tr>\n",
              "      <th>2023-01-11</th>\n",
              "      <td>17446.359375</td>\n",
              "      <td>17934.896484</td>\n",
              "      <td>17337.994141</td>\n",
              "      <td>17934.896484</td>\n",
              "      <td>17934.896484</td>\n",
              "      <td>18372283782</td>\n",
              "    </tr>\n",
              "  </tbody>\n",
              "</table>\n",
              "<p>2192 rows × 6 columns</p>\n",
              "</div>\n",
              "    <div class=\"colab-df-buttons\">\n",
              "\n",
              "  <div class=\"colab-df-container\">\n",
              "    <button class=\"colab-df-convert\" onclick=\"convertToInteractive('df-a1c1a2e3-cde3-4a1a-be4a-b3793a7345c8')\"\n",
              "            title=\"Convert this dataframe to an interactive table.\"\n",
              "            style=\"display:none;\">\n",
              "\n",
              "  <svg xmlns=\"http://www.w3.org/2000/svg\" height=\"24px\" viewBox=\"0 -960 960 960\">\n",
              "    <path d=\"M120-120v-720h720v720H120Zm60-500h600v-160H180v160Zm220 220h160v-160H400v160Zm0 220h160v-160H400v160ZM180-400h160v-160H180v160Zm440 0h160v-160H620v160ZM180-180h160v-160H180v160Zm440 0h160v-160H620v160Z\"/>\n",
              "  </svg>\n",
              "    </button>\n",
              "\n",
              "  <style>\n",
              "    .colab-df-container {\n",
              "      display:flex;\n",
              "      gap: 12px;\n",
              "    }\n",
              "\n",
              "    .colab-df-convert {\n",
              "      background-color: #E8F0FE;\n",
              "      border: none;\n",
              "      border-radius: 50%;\n",
              "      cursor: pointer;\n",
              "      display: none;\n",
              "      fill: #1967D2;\n",
              "      height: 32px;\n",
              "      padding: 0 0 0 0;\n",
              "      width: 32px;\n",
              "    }\n",
              "\n",
              "    .colab-df-convert:hover {\n",
              "      background-color: #E2EBFA;\n",
              "      box-shadow: 0px 1px 2px rgba(60, 64, 67, 0.3), 0px 1px 3px 1px rgba(60, 64, 67, 0.15);\n",
              "      fill: #174EA6;\n",
              "    }\n",
              "\n",
              "    .colab-df-buttons div {\n",
              "      margin-bottom: 4px;\n",
              "    }\n",
              "\n",
              "    [theme=dark] .colab-df-convert {\n",
              "      background-color: #3B4455;\n",
              "      fill: #D2E3FC;\n",
              "    }\n",
              "\n",
              "    [theme=dark] .colab-df-convert:hover {\n",
              "      background-color: #434B5C;\n",
              "      box-shadow: 0px 1px 3px 1px rgba(0, 0, 0, 0.15);\n",
              "      filter: drop-shadow(0px 1px 2px rgba(0, 0, 0, 0.3));\n",
              "      fill: #FFFFFF;\n",
              "    }\n",
              "  </style>\n",
              "\n",
              "    <script>\n",
              "      const buttonEl =\n",
              "        document.querySelector('#df-a1c1a2e3-cde3-4a1a-be4a-b3793a7345c8 button.colab-df-convert');\n",
              "      buttonEl.style.display =\n",
              "        google.colab.kernel.accessAllowed ? 'block' : 'none';\n",
              "\n",
              "      async function convertToInteractive(key) {\n",
              "        const element = document.querySelector('#df-a1c1a2e3-cde3-4a1a-be4a-b3793a7345c8');\n",
              "        const dataTable =\n",
              "          await google.colab.kernel.invokeFunction('convertToInteractive',\n",
              "                                                    [key], {});\n",
              "        if (!dataTable) return;\n",
              "\n",
              "        const docLinkHtml = 'Like what you see? Visit the ' +\n",
              "          '<a target=\"_blank\" href=https://colab.research.google.com/notebooks/data_table.ipynb>data table notebook</a>'\n",
              "          + ' to learn more about interactive tables.';\n",
              "        element.innerHTML = '';\n",
              "        dataTable['output_type'] = 'display_data';\n",
              "        await google.colab.output.renderOutput(dataTable, element);\n",
              "        const docLink = document.createElement('div');\n",
              "        docLink.innerHTML = docLinkHtml;\n",
              "        element.appendChild(docLink);\n",
              "      }\n",
              "    </script>\n",
              "  </div>\n",
              "\n",
              "\n",
              "<div id=\"df-2feab21c-7eb7-49b3-8f41-f13f3fbd3e59\">\n",
              "  <button class=\"colab-df-quickchart\" onclick=\"quickchart('df-2feab21c-7eb7-49b3-8f41-f13f3fbd3e59')\"\n",
              "            title=\"Suggest charts\"\n",
              "            style=\"display:none;\">\n",
              "\n",
              "<svg xmlns=\"http://www.w3.org/2000/svg\" height=\"24px\"viewBox=\"0 0 24 24\"\n",
              "     width=\"24px\">\n",
              "    <g>\n",
              "        <path d=\"M19 3H5c-1.1 0-2 .9-2 2v14c0 1.1.9 2 2 2h14c1.1 0 2-.9 2-2V5c0-1.1-.9-2-2-2zM9 17H7v-7h2v7zm4 0h-2V7h2v10zm4 0h-2v-4h2v4z\"/>\n",
              "    </g>\n",
              "</svg>\n",
              "  </button>\n",
              "\n",
              "<style>\n",
              "  .colab-df-quickchart {\n",
              "      --bg-color: #E8F0FE;\n",
              "      --fill-color: #1967D2;\n",
              "      --hover-bg-color: #E2EBFA;\n",
              "      --hover-fill-color: #174EA6;\n",
              "      --disabled-fill-color: #AAA;\n",
              "      --disabled-bg-color: #DDD;\n",
              "  }\n",
              "\n",
              "  [theme=dark] .colab-df-quickchart {\n",
              "      --bg-color: #3B4455;\n",
              "      --fill-color: #D2E3FC;\n",
              "      --hover-bg-color: #434B5C;\n",
              "      --hover-fill-color: #FFFFFF;\n",
              "      --disabled-bg-color: #3B4455;\n",
              "      --disabled-fill-color: #666;\n",
              "  }\n",
              "\n",
              "  .colab-df-quickchart {\n",
              "    background-color: var(--bg-color);\n",
              "    border: none;\n",
              "    border-radius: 50%;\n",
              "    cursor: pointer;\n",
              "    display: none;\n",
              "    fill: var(--fill-color);\n",
              "    height: 32px;\n",
              "    padding: 0;\n",
              "    width: 32px;\n",
              "  }\n",
              "\n",
              "  .colab-df-quickchart:hover {\n",
              "    background-color: var(--hover-bg-color);\n",
              "    box-shadow: 0 1px 2px rgba(60, 64, 67, 0.3), 0 1px 3px 1px rgba(60, 64, 67, 0.15);\n",
              "    fill: var(--button-hover-fill-color);\n",
              "  }\n",
              "\n",
              "  .colab-df-quickchart-complete:disabled,\n",
              "  .colab-df-quickchart-complete:disabled:hover {\n",
              "    background-color: var(--disabled-bg-color);\n",
              "    fill: var(--disabled-fill-color);\n",
              "    box-shadow: none;\n",
              "  }\n",
              "\n",
              "  .colab-df-spinner {\n",
              "    border: 2px solid var(--fill-color);\n",
              "    border-color: transparent;\n",
              "    border-bottom-color: var(--fill-color);\n",
              "    animation:\n",
              "      spin 1s steps(1) infinite;\n",
              "  }\n",
              "\n",
              "  @keyframes spin {\n",
              "    0% {\n",
              "      border-color: transparent;\n",
              "      border-bottom-color: var(--fill-color);\n",
              "      border-left-color: var(--fill-color);\n",
              "    }\n",
              "    20% {\n",
              "      border-color: transparent;\n",
              "      border-left-color: var(--fill-color);\n",
              "      border-top-color: var(--fill-color);\n",
              "    }\n",
              "    30% {\n",
              "      border-color: transparent;\n",
              "      border-left-color: var(--fill-color);\n",
              "      border-top-color: var(--fill-color);\n",
              "      border-right-color: var(--fill-color);\n",
              "    }\n",
              "    40% {\n",
              "      border-color: transparent;\n",
              "      border-right-color: var(--fill-color);\n",
              "      border-top-color: var(--fill-color);\n",
              "    }\n",
              "    60% {\n",
              "      border-color: transparent;\n",
              "      border-right-color: var(--fill-color);\n",
              "    }\n",
              "    80% {\n",
              "      border-color: transparent;\n",
              "      border-right-color: var(--fill-color);\n",
              "      border-bottom-color: var(--fill-color);\n",
              "    }\n",
              "    90% {\n",
              "      border-color: transparent;\n",
              "      border-bottom-color: var(--fill-color);\n",
              "    }\n",
              "  }\n",
              "</style>\n",
              "\n",
              "  <script>\n",
              "    async function quickchart(key) {\n",
              "      const quickchartButtonEl =\n",
              "        document.querySelector('#' + key + ' button');\n",
              "      quickchartButtonEl.disabled = true;  // To prevent multiple clicks.\n",
              "      quickchartButtonEl.classList.add('colab-df-spinner');\n",
              "      try {\n",
              "        const charts = await google.colab.kernel.invokeFunction(\n",
              "            'suggestCharts', [key], {});\n",
              "      } catch (error) {\n",
              "        console.error('Error during call to suggestCharts:', error);\n",
              "      }\n",
              "      quickchartButtonEl.classList.remove('colab-df-spinner');\n",
              "      quickchartButtonEl.classList.add('colab-df-quickchart-complete');\n",
              "    }\n",
              "    (() => {\n",
              "      let quickchartButtonEl =\n",
              "        document.querySelector('#df-2feab21c-7eb7-49b3-8f41-f13f3fbd3e59 button');\n",
              "      quickchartButtonEl.style.display =\n",
              "        google.colab.kernel.accessAllowed ? 'block' : 'none';\n",
              "    })();\n",
              "  </script>\n",
              "</div>\n",
              "    </div>\n",
              "  </div>\n"
            ]
          },
          "metadata": {},
          "execution_count": 51
        }
      ]
    },
    {
      "cell_type": "code",
      "source": [
        "# 2. Đọc file dữ liệu chứng khoán AAPL và chia train test validate theo tỉ lệ 7:2:1\n",
        "df = data\n",
        "df = df[['Close']]\n",
        "df = df.dropna() # Drop missing values\n",
        "df = df.reset_index(drop=True) # Reset the index\n",
        "\n",
        "# Split the data into training, testing, and validation sets\n",
        "train_size = int(0.6 * len(df))\n",
        "test_size = int(0.2* len(df))\n",
        "val_size = len(df) - train_size - test_size\n",
        "\n",
        "train_data = df[:train_size]\n",
        "test_data = df[train_size:train_size+test_size]\n",
        "val_data = df[train_size+test_size:]"
      ],
      "metadata": {
        "id": "nFGMLePcznhS"
      },
      "execution_count": 52,
      "outputs": []
    },
    {
      "cell_type": "code",
      "source": [
        "!pip install pmdarima"
      ],
      "metadata": {
        "colab": {
          "base_uri": "https://localhost:8080/"
        },
        "id": "MUBDdzhf0J98",
        "outputId": "8c3d3c51-2868-4667-cb9a-923c406a18c8"
      },
      "execution_count": 17,
      "outputs": [
        {
          "output_type": "stream",
          "name": "stdout",
          "text": [
            "Collecting pmdarima\n",
            "  Downloading pmdarima-2.0.4-cp310-cp310-manylinux_2_17_x86_64.manylinux2014_x86_64.manylinux_2_28_x86_64.whl (2.1 MB)\n",
            "\u001b[2K     \u001b[90m━━━━━━━━━━━━━━━━━━━━━━━━━━━━━━━━━━━━━━━━\u001b[0m \u001b[32m2.1/2.1 MB\u001b[0m \u001b[31m12.4 MB/s\u001b[0m eta \u001b[36m0:00:00\u001b[0m\n",
            "\u001b[?25hRequirement already satisfied: joblib>=0.11 in /usr/local/lib/python3.10/dist-packages (from pmdarima) (1.3.2)\n",
            "Requirement already satisfied: Cython!=0.29.18,!=0.29.31,>=0.29 in /usr/local/lib/python3.10/dist-packages (from pmdarima) (3.0.5)\n",
            "Requirement already satisfied: numpy>=1.21.2 in /usr/local/lib/python3.10/dist-packages (from pmdarima) (1.23.5)\n",
            "Requirement already satisfied: pandas>=0.19 in /usr/local/lib/python3.10/dist-packages (from pmdarima) (1.5.3)\n",
            "Requirement already satisfied: scikit-learn>=0.22 in /usr/local/lib/python3.10/dist-packages (from pmdarima) (1.2.2)\n",
            "Requirement already satisfied: scipy>=1.3.2 in /usr/local/lib/python3.10/dist-packages (from pmdarima) (1.11.3)\n",
            "Requirement already satisfied: statsmodels>=0.13.2 in /usr/local/lib/python3.10/dist-packages (from pmdarima) (0.14.0)\n",
            "Requirement already satisfied: urllib3 in /usr/local/lib/python3.10/dist-packages (from pmdarima) (2.0.7)\n",
            "Requirement already satisfied: setuptools!=50.0.0,>=38.6.0 in /usr/local/lib/python3.10/dist-packages (from pmdarima) (67.7.2)\n",
            "Requirement already satisfied: packaging>=17.1 in /usr/local/lib/python3.10/dist-packages (from pmdarima) (23.2)\n",
            "Requirement already satisfied: python-dateutil>=2.8.1 in /usr/local/lib/python3.10/dist-packages (from pandas>=0.19->pmdarima) (2.8.2)\n",
            "Requirement already satisfied: pytz>=2020.1 in /usr/local/lib/python3.10/dist-packages (from pandas>=0.19->pmdarima) (2023.3.post1)\n",
            "Requirement already satisfied: threadpoolctl>=2.0.0 in /usr/local/lib/python3.10/dist-packages (from scikit-learn>=0.22->pmdarima) (3.2.0)\n",
            "Requirement already satisfied: patsy>=0.5.2 in /usr/local/lib/python3.10/dist-packages (from statsmodels>=0.13.2->pmdarima) (0.5.3)\n",
            "Requirement already satisfied: six in /usr/local/lib/python3.10/dist-packages (from patsy>=0.5.2->statsmodels>=0.13.2->pmdarima) (1.16.0)\n",
            "Installing collected packages: pmdarima\n",
            "Successfully installed pmdarima-2.0.4\n"
          ]
        }
      ]
    },
    {
      "cell_type": "code",
      "source": [
        "# 3. Quá trình Training\n",
        "x_train = np.array(train_data.index).reshape(-1, 1)\n",
        "y_train = np.array(train_data['Close'])\n",
        "\n",
        "# Find the best ARIMA model using auto_arima\n",
        "from pmdarima.arima import auto_arima\n",
        "model = auto_arima(y_train, trace=True, error_action='ignore', suppress_warnings=True)\n",
        "\n",
        "# Fit the model\n",
        "model.fit(y_train)"
      ],
      "metadata": {
        "colab": {
          "base_uri": "https://localhost:8080/",
          "height": 248
        },
        "id": "_KTicJ-j0NNB",
        "outputId": "a7e2d74d-117e-4ed8-8704-071def6f737d"
      },
      "execution_count": 53,
      "outputs": [
        {
          "output_type": "stream",
          "name": "stdout",
          "text": [
            "Performing stepwise search to minimize aic\n",
            " ARIMA(2,1,2)(0,0,0)[0] intercept   : AIC=19248.058, Time=0.82 sec\n",
            " ARIMA(0,1,0)(0,0,0)[0] intercept   : AIC=19240.536, Time=0.12 sec\n",
            " ARIMA(1,1,0)(0,0,0)[0] intercept   : AIC=19242.188, Time=0.07 sec\n",
            " ARIMA(0,1,1)(0,0,0)[0] intercept   : AIC=19242.188, Time=0.26 sec\n",
            " ARIMA(0,1,0)(0,0,0)[0]             : AIC=19239.287, Time=0.05 sec\n",
            " ARIMA(1,1,1)(0,0,0)[0] intercept   : AIC=19244.167, Time=0.39 sec\n",
            "\n",
            "Best model:  ARIMA(0,1,0)(0,0,0)[0]          \n",
            "Total fit time: 1.738 seconds\n"
          ]
        },
        {
          "output_type": "execute_result",
          "data": {
            "text/plain": [
              "ARIMA(order=(0, 1, 0), scoring_args={}, suppress_warnings=True,\n",
              "      with_intercept=False)"
            ],
            "text/html": [
              "<style>#sk-container-id-5 {color: black;background-color: white;}#sk-container-id-5 pre{padding: 0;}#sk-container-id-5 div.sk-toggleable {background-color: white;}#sk-container-id-5 label.sk-toggleable__label {cursor: pointer;display: block;width: 100%;margin-bottom: 0;padding: 0.3em;box-sizing: border-box;text-align: center;}#sk-container-id-5 label.sk-toggleable__label-arrow:before {content: \"▸\";float: left;margin-right: 0.25em;color: #696969;}#sk-container-id-5 label.sk-toggleable__label-arrow:hover:before {color: black;}#sk-container-id-5 div.sk-estimator:hover label.sk-toggleable__label-arrow:before {color: black;}#sk-container-id-5 div.sk-toggleable__content {max-height: 0;max-width: 0;overflow: hidden;text-align: left;background-color: #f0f8ff;}#sk-container-id-5 div.sk-toggleable__content pre {margin: 0.2em;color: black;border-radius: 0.25em;background-color: #f0f8ff;}#sk-container-id-5 input.sk-toggleable__control:checked~div.sk-toggleable__content {max-height: 200px;max-width: 100%;overflow: auto;}#sk-container-id-5 input.sk-toggleable__control:checked~label.sk-toggleable__label-arrow:before {content: \"▾\";}#sk-container-id-5 div.sk-estimator input.sk-toggleable__control:checked~label.sk-toggleable__label {background-color: #d4ebff;}#sk-container-id-5 div.sk-label input.sk-toggleable__control:checked~label.sk-toggleable__label {background-color: #d4ebff;}#sk-container-id-5 input.sk-hidden--visually {border: 0;clip: rect(1px 1px 1px 1px);clip: rect(1px, 1px, 1px, 1px);height: 1px;margin: -1px;overflow: hidden;padding: 0;position: absolute;width: 1px;}#sk-container-id-5 div.sk-estimator {font-family: monospace;background-color: #f0f8ff;border: 1px dotted black;border-radius: 0.25em;box-sizing: border-box;margin-bottom: 0.5em;}#sk-container-id-5 div.sk-estimator:hover {background-color: #d4ebff;}#sk-container-id-5 div.sk-parallel-item::after {content: \"\";width: 100%;border-bottom: 1px solid gray;flex-grow: 1;}#sk-container-id-5 div.sk-label:hover label.sk-toggleable__label {background-color: #d4ebff;}#sk-container-id-5 div.sk-serial::before {content: \"\";position: absolute;border-left: 1px solid gray;box-sizing: border-box;top: 0;bottom: 0;left: 50%;z-index: 0;}#sk-container-id-5 div.sk-serial {display: flex;flex-direction: column;align-items: center;background-color: white;padding-right: 0.2em;padding-left: 0.2em;position: relative;}#sk-container-id-5 div.sk-item {position: relative;z-index: 1;}#sk-container-id-5 div.sk-parallel {display: flex;align-items: stretch;justify-content: center;background-color: white;position: relative;}#sk-container-id-5 div.sk-item::before, #sk-container-id-5 div.sk-parallel-item::before {content: \"\";position: absolute;border-left: 1px solid gray;box-sizing: border-box;top: 0;bottom: 0;left: 50%;z-index: -1;}#sk-container-id-5 div.sk-parallel-item {display: flex;flex-direction: column;z-index: 1;position: relative;background-color: white;}#sk-container-id-5 div.sk-parallel-item:first-child::after {align-self: flex-end;width: 50%;}#sk-container-id-5 div.sk-parallel-item:last-child::after {align-self: flex-start;width: 50%;}#sk-container-id-5 div.sk-parallel-item:only-child::after {width: 0;}#sk-container-id-5 div.sk-dashed-wrapped {border: 1px dashed gray;margin: 0 0.4em 0.5em 0.4em;box-sizing: border-box;padding-bottom: 0.4em;background-color: white;}#sk-container-id-5 div.sk-label label {font-family: monospace;font-weight: bold;display: inline-block;line-height: 1.2em;}#sk-container-id-5 div.sk-label-container {text-align: center;}#sk-container-id-5 div.sk-container {/* jupyter's `normalize.less` sets `[hidden] { display: none; }` but bootstrap.min.css set `[hidden] { display: none !important; }` so we also need the `!important` here to be able to override the default hidden behavior on the sphinx rendered scikit-learn.org. See: https://github.com/scikit-learn/scikit-learn/issues/21755 */display: inline-block !important;position: relative;}#sk-container-id-5 div.sk-text-repr-fallback {display: none;}</style><div id=\"sk-container-id-5\" class=\"sk-top-container\"><div class=\"sk-text-repr-fallback\"><pre> ARIMA(0,1,0)(0,0,0)[0]          </pre><b>In a Jupyter environment, please rerun this cell to show the HTML representation or trust the notebook. <br />On GitHub, the HTML representation is unable to render, please try loading this page with nbviewer.org.</b></div><div class=\"sk-container\" hidden><div class=\"sk-item\"><div class=\"sk-estimator sk-toggleable\"><input class=\"sk-toggleable__control sk-hidden--visually\" id=\"sk-estimator-id-5\" type=\"checkbox\" checked><label for=\"sk-estimator-id-5\" class=\"sk-toggleable__label sk-toggleable__label-arrow\">ARIMA</label><div class=\"sk-toggleable__content\"><pre> ARIMA(0,1,0)(0,0,0)[0]          </pre></div></div></div></div></div>"
            ]
          },
          "metadata": {},
          "execution_count": 53
        }
      ]
    },
    {
      "cell_type": "code",
      "source": [
        "# 4. Quá trình testing\n",
        "x_test = np.array(test_data.index).reshape(-1, 1)\n",
        "y_test = np.array(test_data['Close'])\n",
        "y_pred = model.predict(n_periods=len(y_test))\n",
        "\n",
        "# 5. Quá trình Validate\n",
        "x_val= np.array(val_data.index).reshape(-1, 1)\n",
        "y_val = np.array(val_data['Close'])\n",
        "y_pred_val =  model.predict(n_periods=len(y_val))"
      ],
      "metadata": {
        "id": "GKioC89H1Dq-"
      },
      "execution_count": 54,
      "outputs": []
    },
    {
      "cell_type": "code",
      "source": [
        "# 6. Quá trình tạo index predict 30 ngày tiếp theo\n",
        "last_index =  df.index[-1]\n",
        "last_data = pd.RangeIndex(start=last_index, stop=last_index+30, step=1)\n",
        "\n",
        "# Create an array of 30 consecutive integers starting from last_index\n",
        "x_next_30_days = np.array(range(last_index+1, last_index+31)).reshape(-1, 1)\n",
        "\n",
        "# Predict the closing prices for the next 30 days\n",
        "y_next_30_days = model.predict(n_periods=len(x_next_30_days))\n",
        "\n",
        "# Print the predicted closing prices for the next 30 days\n",
        "print('Predicted closing prices for the next 30 days:')\n",
        "print(y_next_30_days)\n",
        "\n",
        "\n",
        "# Create an array of 100 consecutive integers starting from last_index\n",
        "x_next_100_days = np.array(range(last_index+1, last_index+101)).reshape(-1, 1)\n",
        "\n",
        "# Predict the closing prices for the next 100 days\n",
        "y_next_100_days = model.predict(n_periods=len(x_next_100_days))\n",
        "\n",
        "# Print the predicted closing prices for the next 100 days\n",
        "print('Predicted closing prices for the next 100 days:')\n",
        "print(y_next_100_days)"
      ],
      "metadata": {
        "colab": {
          "base_uri": "https://localhost:8080/"
        },
        "id": "ZV1_UJzp1JRl",
        "outputId": "be766801-819c-4adb-f586-ef43c6556db2"
      },
      "execution_count": 55,
      "outputs": [
        {
          "output_type": "stream",
          "name": "stdout",
          "text": [
            "Predicted closing prices for the next 30 days:\n",
            "[12254.402344 12254.402344 12254.402344 12254.402344 12254.402344\n",
            " 12254.402344 12254.402344 12254.402344 12254.402344 12254.402344\n",
            " 12254.402344 12254.402344 12254.402344 12254.402344 12254.402344\n",
            " 12254.402344 12254.402344 12254.402344 12254.402344 12254.402344\n",
            " 12254.402344 12254.402344 12254.402344 12254.402344 12254.402344\n",
            " 12254.402344 12254.402344 12254.402344 12254.402344 12254.402344]\n",
            "Predicted closing prices for the next 100 days:\n",
            "[12254.402344 12254.402344 12254.402344 12254.402344 12254.402344\n",
            " 12254.402344 12254.402344 12254.402344 12254.402344 12254.402344\n",
            " 12254.402344 12254.402344 12254.402344 12254.402344 12254.402344\n",
            " 12254.402344 12254.402344 12254.402344 12254.402344 12254.402344\n",
            " 12254.402344 12254.402344 12254.402344 12254.402344 12254.402344\n",
            " 12254.402344 12254.402344 12254.402344 12254.402344 12254.402344\n",
            " 12254.402344 12254.402344 12254.402344 12254.402344 12254.402344\n",
            " 12254.402344 12254.402344 12254.402344 12254.402344 12254.402344\n",
            " 12254.402344 12254.402344 12254.402344 12254.402344 12254.402344\n",
            " 12254.402344 12254.402344 12254.402344 12254.402344 12254.402344\n",
            " 12254.402344 12254.402344 12254.402344 12254.402344 12254.402344\n",
            " 12254.402344 12254.402344 12254.402344 12254.402344 12254.402344\n",
            " 12254.402344 12254.402344 12254.402344 12254.402344 12254.402344\n",
            " 12254.402344 12254.402344 12254.402344 12254.402344 12254.402344\n",
            " 12254.402344 12254.402344 12254.402344 12254.402344 12254.402344\n",
            " 12254.402344 12254.402344 12254.402344 12254.402344 12254.402344\n",
            " 12254.402344 12254.402344 12254.402344 12254.402344 12254.402344\n",
            " 12254.402344 12254.402344 12254.402344 12254.402344 12254.402344\n",
            " 12254.402344 12254.402344 12254.402344 12254.402344 12254.402344\n",
            " 12254.402344 12254.402344 12254.402344 12254.402344 12254.402344]\n"
          ]
        }
      ]
    },
    {
      "cell_type": "code",
      "source": [
        "# 7. Đánh giá độ chính xác validate, test\n",
        "valid_rmse = np.sqrt(np.mean((y_pred_val - y_val)**2))\n",
        "test_rmse = np.sqrt(np.mean((y_pred - y_test)**2))\n",
        "print('Validation RMSE:', valid_rmse)\n",
        "print('Testing RMSE:', test_rmse)"
      ],
      "metadata": {
        "colab": {
          "base_uri": "https://localhost:8080/"
        },
        "id": "b7cqdpHu1OX5",
        "outputId": "68683513-52c2-4fbb-e426-9e2c4e3130f1"
      },
      "execution_count": 56,
      "outputs": [
        {
          "output_type": "stream",
          "name": "stdout",
          "text": [
            "Validation RMSE: 23817.343285568524\n",
            "Testing RMSE: 29166.922368147865\n"
          ]
        }
      ]
    },
    {
      "cell_type": "code",
      "source": [
        "# 8. Tính RMSE\n",
        "valid_rmse = np.sqrt(np.mean((y_pred_val - y_val)**2))\n",
        "test_rmse = np.sqrt(np.mean((y_pred - y_test)**2))\n",
        "print('Validation RMSE:', valid_rmse)\n",
        "print('Testing RMSE:', test_rmse)\n",
        "\n",
        "# 9.Vẽ hình\n",
        "plt.plot(train_data.index, train_data['Close'])\n",
        "plt.plot(test_data.index, test_data['Close'])\n",
        "plt.plot(test_data.index, y_pred)\n",
        "plt.plot(val_data.index, y_pred_val)\n",
        "plt.plot(last_data,y_next_30_days)\n",
        "plt.legend(['Train', 'Test', 'Predictions','Validate','Next30Day'])\n",
        "plt.show()"
      ],
      "metadata": {
        "colab": {
          "base_uri": "https://localhost:8080/",
          "height": 465
        },
        "id": "CARBFfBt1RoI",
        "outputId": "c6c4fee9-88c7-4d27-867f-b82004c3a8b0"
      },
      "execution_count": 57,
      "outputs": [
        {
          "output_type": "stream",
          "name": "stdout",
          "text": [
            "Validation RMSE: 23817.343285568524\n",
            "Testing RMSE: 29166.922368147865\n"
          ]
        },
        {
          "output_type": "display_data",
          "data": {
            "text/plain": [
              "<Figure size 640x480 with 1 Axes>"
            ],
            "image/png": "[encoded data removed]"
          },
          "metadata": {}
        }
      ]
    },
    {
      "cell_type": "code",
      "source": [
        "test_data.index"
      ],
      "metadata": {
        "colab": {
          "base_uri": "https://localhost:8080/"
        },
        "id": "PEP-oL-_1biK",
        "outputId": "872a93e7-c1b1-451f-ed10-7562ebb90468"
      },
      "execution_count": 58,
      "outputs": [
        {
          "output_type": "execute_result",
          "data": {
            "text/plain": [
              "RangeIndex(start=1315, stop=1753, step=1)"
            ]
          },
          "metadata": {},
          "execution_count": 58
        }
      ]
    },
    {
      "cell_type": "code",
      "source": [
        "# Tính MAPE\n",
        "def calculate_mape(y_true, y_pred):\n",
        "    return np.mean(np.abs((y_true - y_pred) / y_true)) * 100\n",
        "\n",
        "# Tính MDA\n",
        "def calculate_mda(y_true, y_pred):\n",
        "    y_true_diff = np.diff(y_true)\n",
        "    y_pred_diff = np.diff(y_pred)\n",
        "    correct_direction = np.sign(y_true_diff) == np.sign(y_pred_diff)\n",
        "    return np.mean(correct_direction) * 100\n",
        "\n",
        "# Tính toán RMSE, MAPE và MDA\n",
        "valid_rmse = np.sqrt(np.mean((y_pred_val - y_val) ** 2))\n",
        "test_rmse = np.sqrt(np.mean((y_pred - y_test) ** 2))\n",
        "valid_mape = calculate_mape(y_val, y_pred_val)\n",
        "test_mape = calculate_mape(y_test, y_pred)\n",
        "valid_mda = calculate_mda(y_val, y_pred_val)\n",
        "test_mda = calculate_mda(y_test, y_pred)\n",
        "\n",
        "# In kết quả\n",
        "print('Validation RMSE:', valid_rmse)\n",
        "print('Testing RMSE:', test_rmse)\n",
        "print('Validation MAPE:', valid_mape)\n",
        "print('Testing MAPE:', test_mape)\n",
        "print('Validation MDA:', valid_mda)\n",
        "print('Testing MDA:', test_mda)"
      ],
      "metadata": {
        "colab": {
          "base_uri": "https://localhost:8080/"
        },
        "id": "GqHa9-3W1ftv",
        "outputId": "50bb9908-8489-4ce4-8b57-8e3803cba0d5"
      },
      "execution_count": 59,
      "outputs": [
        {
          "output_type": "stream",
          "name": "stdout",
          "text": [
            "Validation RMSE: 23817.343285568524\n",
            "Testing RMSE: 29166.922368147865\n",
            "Validation MAPE: 54.032148420792105\n",
            "Testing MAPE: 56.31612004841232\n",
            "Validation MDA: 0.0\n",
            "Testing MDA: 0.0\n"
          ]
        }
      ]
    }
  ],
  "metadata": {
    "colab": {
      "provenance": []
    },
    "kernelspec": {
      "display_name": "Python 3",
      "name": "python3"
    }
  },
  "nbformat": 4,
  "nbformat_minor": 0
}