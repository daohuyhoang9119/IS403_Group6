{
  "cells": [
    {
      "cell_type": "code",
      "execution_count": 1,
      "metadata": {
        "id": "oFhtSYuhO8Ti"
      },
      "outputs": [],
      "source": [
        "import numpy as np\n",
        "import pandas as pd\n",
        "from tensorflow.keras.models import Sequential\n",
        "from tensorflow.keras.layers import Conv1D, GlobalAveragePooling1D\n",
        "from sklearn.preprocessing import MinMaxScaler\n",
        "from sklearn.metrics import mean_squared_error, mean_absolute_error, mean_absolute_percentage_error\n",
        "import matplotlib.pyplot as plt"
      ]
    },
    {
      "cell_type": "code",
      "execution_count": 2,
      "metadata": {
        "id": "njgDJ7ifPp2V"
      },
      "outputs": [],
      "source": [
        "# 2. Đọc file csv và gắng index với giá Close\n",
        "data = pd.read_csv('./data/ETH-USD.csv')\n",
        "\n",
        "# Hàm chuyển giá từ chuỗi sang số\n",
        "def convert_str_to_number(value):\n",
        "    if isinstance(value, str):\n",
        "        return float(value.replace(',', ''))\n",
        "    else:\n",
        "        return float(value)\n",
        "\n",
        "# Áp dụng hàm chuyển đổi cho các cột giá trị\n",
        "data['Close'] = data['Close'].apply(convert_str_to_number)\n",
        "data['Open'] = data['Open'].apply(convert_str_to_number)\n",
        "data['High'] = data['High'].apply(convert_str_to_number)\n",
        "data['Low'] = data['Low'].apply(convert_str_to_number)\n",
        "\n",
        "data\n",
        "\n",
        "df1=data.reset_index()['Close']"
      ]
    },
    {
      "cell_type": "code",
      "execution_count": 3,
      "metadata": {
        "id": "CBDLccLCWQUc"
      },
      "outputs": [],
      "source": [
        "# 3. Scaler data\n",
        "scaler=MinMaxScaler(feature_range=(0,1))\n",
        "df1=scaler.fit_transform(np.array(df1).reshape(-1,1))\n",
        "price = data['Close'].values\n",
        "price = price.reshape(-1, 1)\n",
        "scaler = MinMaxScaler(feature_range=(0, 1))\n",
        "price_scaled = scaler.fit_transform(price)"
      ]
    },
    {
      "cell_type": "code",
      "execution_count": 4,
      "metadata": {
        "id": "Qq0XKA_7YUmF"
      },
      "outputs": [],
      "source": [
        "# Chia dữ liệu thành train test validate\n",
        "train_size = int(len(df1) * 0.6)\n",
        "test_size = int(len(df1) * 0.2)\n",
        "val_size = len(df1) - train_size - test_size"
      ]
    },
    {
      "cell_type": "code",
      "execution_count": 5,
      "metadata": {
        "id": "-mmkPMs-YtBH"
      },
      "outputs": [],
      "source": [
        "train_data = df1[:train_size]\n",
        "test_data = df1[train_size:train_size+test_size]\n",
        "val_data = df1[train_size+test_size:]"
      ]
    },
    {
      "cell_type": "code",
      "execution_count": 6,
      "metadata": {
        "id": "79vKaxEnZL0t"
      },
      "outputs": [],
      "source": [
        "def create_dataset(dataset, look_back=1):\n",
        "    X, Y = [], []\n",
        "    for i in range(len(dataset) - look_back):\n",
        "        X.append(dataset[i:i + look_back, 0])\n",
        "        Y.append(dataset[i + look_back, 0])\n",
        "    return np.array(X), np.array(Y)\n",
        "\n",
        "look_back = 30\n",
        "X_train, Y_train = create_dataset(train_data, look_back)\n",
        "X_test, Y_test = create_dataset(test_data, look_back)\n",
        "X_val, Y_val = create_dataset(val_data, look_back)\n",
        "\n",
        "X_train = X_train.reshape(X_train.shape[0], X_train.shape[1], 1)\n",
        "X_test = X_test.reshape(X_test.shape[0], X_test.shape[1], 1)\n",
        "X_val = X_val.reshape(X_val.shape[0], X_val.shape[1], 1)"
      ]
    },
    {
      "cell_type": "code",
      "execution_count": 7,
      "metadata": {
        "id": "KFwRJGxOaThP"
      },
      "outputs": [],
      "source": [
        "# Xây dựng mô hình\n",
        "model = Sequential()"
      ]
    },
    {
      "cell_type": "code",
      "execution_count": 8,
      "metadata": {
        "id": "OcMxUydba25T"
      },
      "outputs": [],
      "source": [
        "# Thêm lớp tích chập (Convolution Layer)\n",
        "model.add(Conv1D(filters=256, kernel_size=3, activation='ReLU', input_shape=(look_back, 1))) #rectified linear unit (ReLU)\n",
        "model.add(Conv1D(filters=128, kernel_size=3, activation='ReLU'))\n",
        "model.add(Conv1D(filters=64, kernel_size=3, activation='ReLU'))\n",
        "model.add(Conv1D(filters=32, kernel_size=3, activation='ReLU'))\n",
        "model.add(Conv1D(filters=1, kernel_size=3, activation='ReLU'))"
      ]
    },
    {
      "cell_type": "code",
      "execution_count": 9,
      "metadata": {
        "id": "8Hcjt9QcdZfp"
      },
      "outputs": [],
      "source": [
        "# Thêm tầng average pooling\n",
        "model.add(GlobalAveragePooling1D())"
      ]
    },
    {
      "cell_type": "code",
      "execution_count": 10,
      "metadata": {
        "id": "_y7dAKZ7eNsK"
      },
      "outputs": [],
      "source": [
        "# Biên dịch mô hình Compile model\n",
        "model.compile(loss='mean_squared_error', optimizer='adam')"
      ]
    },
    {
      "cell_type": "code",
      "execution_count": 11,
      "metadata": {
        "colab": {
          "base_uri": "https://localhost:8080/"
        },
        "id": "BBiZC7LvggAW",
        "outputId": "8c549116-d12d-4ff2-996c-73660a1d0430"
      },
      "outputs": [
        {
          "name": "stdout",
          "output_type": "stream",
          "text": [
            "Epoch 1/50\n",
            "20/20 [==============================] - 4s 86ms/step - loss: 0.0065 - val_loss: 8.6606e-04\n",
            "Epoch 2/50\n",
            "20/20 [==============================] - 1s 67ms/step - loss: 0.0020 - val_loss: 7.6921e-04\n",
            "Epoch 3/50\n",
            "20/20 [==============================] - 1s 41ms/step - loss: 0.0018 - val_loss: 7.4183e-04\n",
            "Epoch 4/50\n",
            "20/20 [==============================] - 1s 44ms/step - loss: 0.0020 - val_loss: 0.0013\n",
            "Epoch 5/50\n",
            "20/20 [==============================] - 1s 40ms/step - loss: 0.0018 - val_loss: 6.9062e-04\n",
            "Epoch 6/50\n",
            "20/20 [==============================] - 1s 40ms/step - loss: 0.0017 - val_loss: 0.0011\n",
            "Epoch 7/50\n",
            "20/20 [==============================] - 1s 43ms/step - loss: 0.0019 - val_loss: 0.0016\n",
            "Epoch 8/50\n",
            "20/20 [==============================] - 1s 39ms/step - loss: 0.0019 - val_loss: 6.9637e-04\n",
            "Epoch 9/50\n",
            "20/20 [==============================] - 1s 40ms/step - loss: 0.0016 - val_loss: 7.3582e-04\n",
            "Epoch 10/50\n",
            "20/20 [==============================] - 1s 41ms/step - loss: 0.0016 - val_loss: 7.3178e-04\n",
            "Epoch 11/50\n",
            "20/20 [==============================] - 1s 40ms/step - loss: 0.0016 - val_loss: 0.0010\n",
            "Epoch 12/50\n",
            "20/20 [==============================] - 1s 40ms/step - loss: 0.0017 - val_loss: 0.0019\n",
            "Epoch 13/50\n",
            "20/20 [==============================] - 1s 40ms/step - loss: 0.0016 - val_loss: 7.2404e-04\n",
            "Epoch 14/50\n",
            "20/20 [==============================] - 1s 41ms/step - loss: 0.0015 - val_loss: 6.4972e-04\n",
            "Epoch 15/50\n",
            "20/20 [==============================] - 1s 56ms/step - loss: 0.0016 - val_loss: 8.4116e-04\n",
            "Epoch 16/50\n",
            "20/20 [==============================] - 1s 70ms/step - loss: 0.0015 - val_loss: 7.8104e-04\n",
            "Epoch 17/50\n",
            "20/20 [==============================] - 1s 70ms/step - loss: 0.0017 - val_loss: 0.0017\n",
            "Epoch 18/50\n",
            "20/20 [==============================] - 1s 69ms/step - loss: 0.0017 - val_loss: 0.0019\n",
            "Epoch 19/50\n",
            "20/20 [==============================] - 1s 45ms/step - loss: 0.0013 - val_loss: 0.0024\n",
            "Epoch 20/50\n",
            "20/20 [==============================] - 1s 40ms/step - loss: 0.0013 - val_loss: 0.0049\n",
            "Epoch 21/50\n",
            "20/20 [==============================] - 1s 40ms/step - loss: 0.0015 - val_loss: 0.0025\n",
            "Epoch 22/50\n",
            "20/20 [==============================] - 1s 39ms/step - loss: 0.0014 - val_loss: 9.5578e-04\n",
            "Epoch 23/50\n",
            "20/20 [==============================] - 1s 40ms/step - loss: 0.0012 - val_loss: 0.0011\n",
            "Epoch 24/50\n",
            "20/20 [==============================] - 1s 40ms/step - loss: 0.0012 - val_loss: 0.0040\n",
            "Epoch 25/50\n",
            "20/20 [==============================] - 1s 40ms/step - loss: 0.0013 - val_loss: 6.0713e-04\n",
            "Epoch 26/50\n",
            "20/20 [==============================] - 1s 40ms/step - loss: 0.0013 - val_loss: 6.1251e-04\n",
            "Epoch 27/50\n",
            "20/20 [==============================] - 1s 39ms/step - loss: 0.0011 - val_loss: 5.9382e-04\n",
            "Epoch 28/50\n",
            "20/20 [==============================] - 1s 40ms/step - loss: 0.0011 - val_loss: 0.0019\n",
            "Epoch 29/50\n",
            "20/20 [==============================] - 1s 40ms/step - loss: 0.0011 - val_loss: 0.0033\n",
            "Epoch 30/50\n",
            "20/20 [==============================] - 1s 40ms/step - loss: 0.0013 - val_loss: 8.5997e-04\n",
            "Epoch 31/50\n",
            "20/20 [==============================] - 1s 59ms/step - loss: 0.0012 - val_loss: 0.0024\n",
            "Epoch 32/50\n",
            "20/20 [==============================] - 1s 69ms/step - loss: 0.0013 - val_loss: 6.7919e-04\n",
            "Epoch 33/50\n",
            "20/20 [==============================] - 1s 70ms/step - loss: 0.0010 - val_loss: 7.4635e-04\n",
            "Epoch 34/50\n",
            "20/20 [==============================] - 1s 68ms/step - loss: 9.1149e-04 - val_loss: 6.9295e-04\n",
            "Epoch 35/50\n",
            "20/20 [==============================] - 1s 44ms/step - loss: 9.8417e-04 - val_loss: 0.0021\n",
            "Epoch 36/50\n",
            "20/20 [==============================] - 1s 40ms/step - loss: 0.0011 - val_loss: 0.0028\n",
            "Epoch 37/50\n",
            "20/20 [==============================] - 1s 41ms/step - loss: 9.2264e-04 - val_loss: 0.0017\n",
            "Epoch 38/50\n",
            "20/20 [==============================] - 1s 41ms/step - loss: 8.9763e-04 - val_loss: 6.8292e-04\n",
            "Epoch 39/50\n",
            "20/20 [==============================] - 1s 40ms/step - loss: 9.0016e-04 - val_loss: 0.0013\n",
            "Epoch 40/50\n",
            "20/20 [==============================] - 1s 39ms/step - loss: 8.1475e-04 - val_loss: 6.6789e-04\n",
            "Epoch 41/50\n",
            "20/20 [==============================] - 1s 40ms/step - loss: 9.8284e-04 - val_loss: 0.0019\n",
            "Epoch 42/50\n",
            "20/20 [==============================] - 1s 40ms/step - loss: 0.0010 - val_loss: 6.2637e-04\n",
            "Epoch 43/50\n",
            "20/20 [==============================] - 1s 40ms/step - loss: 7.6539e-04 - val_loss: 6.3083e-04\n",
            "Epoch 44/50\n",
            "20/20 [==============================] - 1s 40ms/step - loss: 0.0010 - val_loss: 9.7696e-04\n",
            "Epoch 45/50\n",
            "20/20 [==============================] - 1s 39ms/step - loss: 8.2261e-04 - val_loss: 0.0012\n",
            "Epoch 46/50\n",
            "20/20 [==============================] - 1s 39ms/step - loss: 8.8986e-04 - val_loss: 6.2869e-04\n",
            "Epoch 47/50\n",
            "20/20 [==============================] - 1s 46ms/step - loss: 7.1306e-04 - val_loss: 4.3855e-04\n",
            "Epoch 48/50\n",
            "20/20 [==============================] - 1s 70ms/step - loss: 6.9427e-04 - val_loss: 0.0035\n",
            "Epoch 49/50\n",
            "20/20 [==============================] - 1s 71ms/step - loss: 7.0640e-04 - val_loss: 0.0040\n",
            "Epoch 50/50\n",
            "20/20 [==============================] - 1s 69ms/step - loss: 7.8397e-04 - val_loss: 5.1415e-04\n"
          ]
        },
        {
          "data": {
            "text/plain": [
              "<keras.src.callbacks.History at 0x79e6101ba710>"
            ]
          },
          "execution_count": 11,
          "metadata": {},
          "output_type": "execute_result"
        }
      ],
      "source": [
        "# Huấn luyện mô hình\n",
        "model.fit(X_train, Y_train, epochs=50, batch_size=64, validation_data=(X_val, Y_val))"
      ]
    },
    {
      "cell_type": "code",
      "execution_count": 12,
      "metadata": {
        "colab": {
          "base_uri": "https://localhost:8080/"
        },
        "id": "QGqqnPFCrk0r",
        "outputId": "c6d837eb-db9e-4fc6-95b5-2f56ec52b85d"
      },
      "outputs": [
        {
          "name": "stdout",
          "output_type": "stream",
          "text": [
            "13/13 [==============================] - 0s 12ms/step\n",
            "13/13 [==============================] - 0s 7ms/step\n"
          ]
        }
      ],
      "source": [
        "# Dự báo\n",
        "test_predict = model.predict(X_test)\n",
        "val_predict = model.predict(X_val)\n",
        "\n",
        "test_predict = scaler.inverse_transform(test_predict)\n",
        "Y_test = scaler.inverse_transform([Y_test])\n",
        "val_predict = scaler.inverse_transform(val_predict)\n",
        "Y_val = scaler.inverse_transform([Y_val])"
      ]
    },
    {
      "cell_type": "code",
      "execution_count": 13,
      "metadata": {
        "colab": {
          "base_uri": "https://localhost:8080/"
        },
        "id": "4YHFlm39rnM6",
        "outputId": "7ea00ba2-44aa-41aa-8f7c-18297471fca4"
      },
      "outputs": [
        {
          "name": "stdout",
          "output_type": "stream",
          "text": [
            "RMSE trên tập test là: 587.4058107651493\n",
            "MAPE trên tập test là: 14.026878353913641 %\n",
            "MDA trên tập test là: 48.86649874055416 %\n"
          ]
        }
      ],
      "source": [
        "# Hàm tính MDA\n",
        "def calculate_mda(y_true, y_pred):\n",
        "    y_true_diff = np.diff(y_true)\n",
        "    y_pred_diff = np.diff(y_pred)\n",
        "    correct_direction = np.sign(y_true_diff) == np.sign(y_pred_diff)\n",
        "    return np.mean(correct_direction) * 100\n",
        "\n",
        "# Tính toán RMSE, MAE và MAPE trên tập test\n",
        "test_score_rmse = np.sqrt(mean_squared_error(Y_test[0], test_predict[:, 0]))\n",
        "test_score_mape = mean_absolute_percentage_error(Y_test[0], test_predict[:, 0]) * 100\n",
        "test_score_mda = calculate_mda(Y_test[0], test_predict[:, 0])\n",
        "\n",
        "print('RMSE trên tập test là:', test_score_rmse)\n",
        "print('MAPE trên tập test là:', test_score_mape, '%')\n",
        "print('MDA trên tập test là:', test_score_mda, '%')"
      ]
    },
    {
      "cell_type": "code",
      "execution_count": 14,
      "metadata": {
        "colab": {
          "base_uri": "https://localhost:8080/"
        },
        "id": "xz2ZqSUWrsNM",
        "outputId": "8425dd42-34bc-4222-8d9b-60e6d7d85f89"
      },
      "outputs": [
        {
          "name": "stdout",
          "output_type": "stream",
          "text": [
            "1/1 [==============================] - 0s 23ms/step\n",
            "1/1 [==============================] - 0s 21ms/step\n",
            "1/1 [==============================] - 0s 23ms/step\n",
            "1/1 [==============================] - 0s 33ms/step\n",
            "1/1 [==============================] - 0s 21ms/step\n",
            "1/1 [==============================] - 0s 22ms/step\n",
            "1/1 [==============================] - 0s 21ms/step\n",
            "1/1 [==============================] - 0s 21ms/step\n",
            "1/1 [==============================] - 0s 24ms/step\n",
            "1/1 [==============================] - 0s 21ms/step\n",
            "1/1 [==============================] - 0s 21ms/step\n",
            "1/1 [==============================] - 0s 28ms/step\n",
            "1/1 [==============================] - 0s 26ms/step\n",
            "1/1 [==============================] - 0s 23ms/step\n",
            "1/1 [==============================] - 0s 23ms/step\n",
            "1/1 [==============================] - 0s 23ms/step\n",
            "1/1 [==============================] - 0s 26ms/step\n",
            "1/1 [==============================] - 0s 24ms/step\n",
            "1/1 [==============================] - 0s 23ms/step\n",
            "1/1 [==============================] - 0s 21ms/step\n",
            "1/1 [==============================] - 0s 24ms/step\n",
            "1/1 [==============================] - 0s 21ms/step\n",
            "1/1 [==============================] - 0s 21ms/step\n",
            "1/1 [==============================] - 0s 21ms/step\n",
            "1/1 [==============================] - 0s 23ms/step\n",
            "1/1 [==============================] - 0s 22ms/step\n",
            "1/1 [==============================] - 0s 22ms/step\n",
            "1/1 [==============================] - 0s 21ms/step\n",
            "1/1 [==============================] - 0s 30ms/step\n",
            "1/1 [==============================] - 0s 21ms/step\n",
            "1/1 [==============================] - 0s 22ms/step\n",
            "1/1 [==============================] - 0s 23ms/step\n",
            "1/1 [==============================] - 0s 21ms/step\n",
            "1/1 [==============================] - 0s 25ms/step\n",
            "1/1 [==============================] - 0s 22ms/step\n",
            "1/1 [==============================] - 0s 21ms/step\n",
            "1/1 [==============================] - 0s 21ms/step\n",
            "1/1 [==============================] - 0s 22ms/step\n",
            "1/1 [==============================] - 0s 22ms/step\n",
            "1/1 [==============================] - 0s 20ms/step\n",
            "1/1 [==============================] - 0s 31ms/step\n",
            "1/1 [==============================] - 0s 26ms/step\n",
            "1/1 [==============================] - 0s 22ms/step\n",
            "1/1 [==============================] - 0s 22ms/step\n",
            "1/1 [==============================] - 0s 29ms/step\n",
            "1/1 [==============================] - 0s 23ms/step\n",
            "1/1 [==============================] - 0s 22ms/step\n",
            "1/1 [==============================] - 0s 24ms/step\n",
            "1/1 [==============================] - 0s 21ms/step\n",
            "1/1 [==============================] - 0s 21ms/step\n",
            "1/1 [==============================] - 0s 24ms/step\n",
            "1/1 [==============================] - 0s 24ms/step\n",
            "1/1 [==============================] - 0s 25ms/step\n",
            "1/1 [==============================] - 0s 28ms/step\n",
            "1/1 [==============================] - 0s 37ms/step\n",
            "1/1 [==============================] - 0s 22ms/step\n",
            "1/1 [==============================] - 0s 22ms/step\n",
            "1/1 [==============================] - 0s 22ms/step\n",
            "1/1 [==============================] - 0s 25ms/step\n",
            "1/1 [==============================] - 0s 24ms/step\n",
            "1/1 [==============================] - 0s 31ms/step\n",
            "1/1 [==============================] - 0s 24ms/step\n",
            "1/1 [==============================] - 0s 24ms/step\n",
            "1/1 [==============================] - 0s 24ms/step\n",
            "1/1 [==============================] - 0s 28ms/step\n",
            "1/1 [==============================] - 0s 21ms/step\n",
            "1/1 [==============================] - 0s 25ms/step\n",
            "1/1 [==============================] - 0s 21ms/step\n",
            "1/1 [==============================] - 0s 25ms/step\n",
            "1/1 [==============================] - 0s 24ms/step\n",
            "1/1 [==============================] - 0s 22ms/step\n",
            "1/1 [==============================] - 0s 21ms/step\n",
            "1/1 [==============================] - 0s 21ms/step\n",
            "1/1 [==============================] - 0s 24ms/step\n",
            "1/1 [==============================] - 0s 22ms/step\n",
            "1/1 [==============================] - 0s 23ms/step\n",
            "1/1 [==============================] - 0s 22ms/step\n",
            "1/1 [==============================] - 0s 23ms/step\n",
            "1/1 [==============================] - 0s 23ms/step\n",
            "1/1 [==============================] - 0s 21ms/step\n",
            "1/1 [==============================] - 0s 21ms/step\n",
            "1/1 [==============================] - 0s 21ms/step\n",
            "1/1 [==============================] - 0s 21ms/step\n",
            "1/1 [==============================] - 0s 22ms/step\n",
            "1/1 [==============================] - 0s 21ms/step\n",
            "1/1 [==============================] - 0s 21ms/step\n",
            "1/1 [==============================] - 0s 26ms/step\n",
            "1/1 [==============================] - 0s 21ms/step\n",
            "1/1 [==============================] - 0s 22ms/step\n",
            "1/1 [==============================] - 0s 24ms/step\n",
            "1/1 [==============================] - 0s 21ms/step\n",
            "1/1 [==============================] - 0s 21ms/step\n",
            "1/1 [==============================] - 0s 21ms/step\n",
            "1/1 [==============================] - 0s 23ms/step\n",
            "1/1 [==============================] - 0s 23ms/step\n",
            "1/1 [==============================] - 0s 23ms/step\n",
            "1/1 [==============================] - 0s 27ms/step\n",
            "1/1 [==============================] - 0s 24ms/step\n",
            "1/1 [==============================] - 0s 25ms/step\n",
            "1/1 [==============================] - 0s 23ms/step\n",
            "[[2051.6746]\n",
            " [2076.7139]\n",
            " [2080.0117]\n",
            " [2074.4634]\n",
            " [2075.0547]\n",
            " [2086.403 ]\n",
            " [2104.677 ]\n",
            " [2125.5867]\n",
            " [2146.827 ]\n",
            " [2167.4102]\n",
            " [2187.161 ]\n",
            " [2208.4592]\n",
            " [2233.3333]\n",
            " [2260.1235]\n",
            " [2284.7954]\n",
            " [2305.9011]\n",
            " [2327.376 ]\n",
            " [2353.4602]\n",
            " [2375.8042]\n",
            " [2384.8796]\n",
            " [2385.68  ]\n",
            " [2392.5881]\n",
            " [2411.419 ]\n",
            " [2434.3313]\n",
            " [2455.4768]\n",
            " [2476.4658]\n",
            " [2500.0356]\n",
            " [2524.7395]\n",
            " [2547.359 ]\n",
            " [2566.8125]\n",
            " [2583.8462]\n",
            " [2599.1772]\n",
            " [2612.8186]\n",
            " [2624.3906]\n",
            " [2633.4668]\n",
            " [2639.8628]\n",
            " [2643.864 ]\n",
            " [2646.0164]\n",
            " [2646.4226]\n",
            " [2644.731 ]\n",
            " [2641.3118]\n",
            " [2637.9192]\n",
            " [2636.2913]\n",
            " [2636.118 ]\n",
            " [2635.191 ]\n",
            " [2631.662 ]\n",
            " [2625.464 ]\n",
            " [2617.4753]\n",
            " [2608.098 ]\n",
            " [2597.1777]\n",
            " [2584.846 ]\n",
            " [2571.8154]\n",
            " [2558.854 ]\n",
            " [2546.3105]\n",
            " [2534.2178]\n",
            " [2522.6284]\n",
            " [2511.7542]\n",
            " [2501.8481]\n",
            " [2493.064 ]\n",
            " [2485.427 ]\n",
            " [2478.9114]\n",
            " [2473.518 ]\n",
            " [2469.21  ]\n",
            " [2465.7346]\n",
            " [2462.5881]\n",
            " [2459.301 ]\n",
            " [2455.8174]\n",
            " [2452.5571]\n",
            " [2450.0825]\n",
            " [2448.736 ]\n",
            " [2448.5928]\n",
            " [2449.6433]\n",
            " [2451.8962]\n",
            " [2455.3132]\n",
            " [2459.724 ]\n",
            " [2464.8748]\n",
            " [2470.5325]\n",
            " [2476.5374]\n",
            " [2482.7664]\n",
            " [2489.0823]\n",
            " [2495.333 ]\n",
            " [2501.3843]\n",
            " [2507.1392]\n",
            " [2512.5278]\n",
            " [2517.5088]\n",
            " [2522.088 ]\n",
            " [2526.3533]\n",
            " [2530.464 ]\n",
            " [2534.5828]\n",
            " [2538.7712]\n",
            " [2542.9531]\n",
            " [2546.957 ]\n",
            " [2550.6035]\n",
            " [2553.7495]\n",
            " [2556.2927]\n",
            " [2558.158 ]\n",
            " [2559.2998]\n",
            " [2559.7231]\n",
            " [2559.4768]\n",
            " [2558.6353]]\n"
          ]
        }
      ],
      "source": [
        "# Dự báo giá trị 100 ngày trong tương lai\n",
        "last_100_days = price_scaled[-100:]\n",
        "next_100_days = []\n",
        "for i in range(100):\n",
        "    x = last_100_days[-look_back:].reshape(1, look_back, 1)\n",
        "    y_hat = model.predict(x)\n",
        "    next_100_days.append(y_hat)\n",
        "    last_100_days = np.append(last_100_days, y_hat, axis=0)\n",
        "\n",
        "next_100_days = np.array(next_100_days).reshape(-1, 1)\n",
        "next_100_days = scaler.inverse_transform(next_100_days)\n",
        "\n",
        "print(next_100_days)"
      ]
    },
    {
      "cell_type": "code",
      "execution_count": 15,
      "metadata": {
        "id": "qMMbGPn5sZcl"
      },
      "outputs": [],
      "source": [
        "test_predict_df = pd.DataFrame(test_predict)\n",
        "test_predict_index = range(len(train_data)+look_back, len(train_data)+look_back+len(test_predict))\n",
        "test_predict_df.index = test_predict_index\n",
        "\n",
        "val_predict_df = pd.DataFrame(val_predict)\n",
        "val_predict_index = range(len(train_data)+len(test_data)+look_back, len(train_data)+len(test_data)+look_back+len(val_predict))\n",
        "val_predict_df.index = val_predict_index\n",
        "\n",
        "next_100_days_df = pd.DataFrame(next_100_days)\n",
        "next_100_index = range(len(data), len(data)+len(next_100_days))\n",
        "next_100_days_df.index = next_100_index\n",
        "\n",
        "train_data_df = data[:train_size][['Close']]\n",
        "test_data_df = data[train_size:train_size + test_size][['Close']]\n",
        "val_data_df = data[train_size+test_size:][['Close']]"
      ]
    },
    {
      "cell_type": "code",
      "execution_count": 16,
      "metadata": {
        "colab": {
          "base_uri": "https://localhost:8080/",
          "height": 432
        },
        "id": "ZqgjGLuzsisj",
        "outputId": "1bf813c9-fc09-4273-8694-567d5e8d7daa"
      },
      "outputs": [
        {
          "data": {
            "image/png": "[encoded data removed]",
            "text/plain": [
              "<Figure size 640x480 with 1 Axes>"
            ]
          },
          "metadata": {},
          "output_type": "display_data"
        }
      ],
      "source": [
        "# Vẽ đồ thị các giá trị từ train tới validate và dự đoán 100 ngày sau\n",
        "plt.plot(train_data_df, label='Train')\n",
        "plt.plot(test_data_df, label='Actual Test')\n",
        "plt.plot(test_predict_df, label='Predicted Test')\n",
        "plt.plot(val_data_df, label='Validate')\n",
        "plt.plot(val_predict_df, label='Predicted Validate')\n",
        "plt.plot(next_100_days_df, label='Next 100 days')\n",
        "plt.legend()\n",
        "plt.show()"
      ]
    }
  ],
  "metadata": {
    "colab": {
      "provenance": []
    },
    "kernelspec": {
      "display_name": "Python 3",
      "name": "python3"
    },
    "language_info": {
      "name": "python"
    }
  },
  "nbformat": 4,
  "nbformat_minor": 0
}
