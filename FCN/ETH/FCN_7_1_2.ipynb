{
  "cells": [
    {
      "cell_type": "code",
      "execution_count": null,
      "metadata": {
        "id": "oFhtSYuhO8Ti"
      },
      "outputs": [],
      "source": [
        "import numpy as np\n",
        "import pandas as pd\n",
        "from tensorflow.keras.models import Sequential\n",
        "from tensorflow.keras.layers import Conv1D, GlobalAveragePooling1D\n",
        "from sklearn.preprocessing import MinMaxScaler\n",
        "from sklearn.metrics import mean_squared_error, mean_absolute_error, mean_absolute_percentage_error\n",
        "import matplotlib.pyplot as plt"
      ]
    },
    {
      "cell_type": "code",
      "execution_count": null,
      "metadata": {
        "id": "njgDJ7ifPp2V"
      },
      "outputs": [],
      "source": [
        "# 2. Đọc file csv và gắn index với giá Close\n",
        "data = pd.read_csv('./data/ETH-USD.csv')\n",
        "\n",
        "# Hàm chuyển giá từ chuỗi sang số\n",
        "def convert_str_to_number(value):\n",
        "    if isinstance(value, str):\n",
        "        return float(value.replace(',', ''))\n",
        "    else:\n",
        "        return float(value)\n",
        "\n",
        "# Áp dụng hàm chuyển đổi cho các cột giá trị\n",
        "data['Close'] = data['Close'].apply(convert_str_to_number)\n",
        "data['Open'] = data['Open'].apply(convert_str_to_number)\n",
        "data['High'] = data['High'].apply(convert_str_to_number)\n",
        "data['Low'] = data['Low'].apply(convert_str_to_number)\n",
        "\n",
        "data\n",
        "\n",
        "df1=data.reset_index()['Close']"
      ]
    },
    {
      "cell_type": "code",
      "execution_count": null,
      "metadata": {
        "id": "CBDLccLCWQUc"
      },
      "outputs": [],
      "source": [
        "# 3. Scaler data\n",
        "scaler=MinMaxScaler(feature_range=(0,1))\n",
        "df1=scaler.fit_transform(np.array(df1).reshape(-1,1))\n",
        "price = data['Close'].values\n",
        "price = price.reshape(-1, 1)\n",
        "scaler = MinMaxScaler(feature_range=(0, 1))\n",
        "price_scaled = scaler.fit_transform(price)"
      ]
    },
    {
      "cell_type": "code",
      "execution_count": null,
      "metadata": {
        "id": "Qq0XKA_7YUmF"
      },
      "outputs": [],
      "source": [
        "# Chia dữ liệu thành train test validate\n",
        "train_size = int(len(df1) * 0.7)\n",
        "test_size = int(len(df1) * 0.2)\n",
        "val_size = len(df1) - train_size - test_size"
      ]
    },
    {
      "cell_type": "code",
      "execution_count": null,
      "metadata": {
        "id": "-mmkPMs-YtBH"
      },
      "outputs": [],
      "source": [
        "train_data = df1[:train_size]\n",
        "test_data = df1[train_size:train_size+test_size]\n",
        "val_data = df1[train_size+test_size:]"
      ]
    },
    {
      "cell_type": "code",
      "execution_count": null,
      "metadata": {
        "id": "79vKaxEnZL0t"
      },
      "outputs": [],
      "source": [
        "def create_dataset(dataset, look_back=1):\n",
        "    X, Y = [], []\n",
        "    for i in range(len(dataset) - look_back):\n",
        "        X.append(dataset[i:i + look_back, 0])\n",
        "        Y.append(dataset[i + look_back, 0])\n",
        "    return np.array(X), np.array(Y)\n",
        "\n",
        "look_back = 30\n",
        "X_train, Y_train = create_dataset(train_data, look_back)\n",
        "X_test, Y_test = create_dataset(test_data, look_back)\n",
        "X_val, Y_val = create_dataset(val_data, look_back)\n",
        "\n",
        "X_train = X_train.reshape(X_train.shape[0], X_train.shape[1], 1)\n",
        "X_test = X_test.reshape(X_test.shape[0], X_test.shape[1], 1)\n",
        "X_val = X_val.reshape(X_val.shape[0], X_val.shape[1], 1)"
      ]
    },
    {
      "cell_type": "code",
      "execution_count": null,
      "metadata": {
        "id": "KFwRJGxOaThP"
      },
      "outputs": [],
      "source": [
        "# Xây dựng mô hình\n",
        "model = Sequential()"
      ]
    },
    {
      "cell_type": "code",
      "execution_count": null,
      "metadata": {
        "id": "OcMxUydba25T"
      },
      "outputs": [],
      "source": [
        "# Thêm lớp tích chập (Convolution Layer)\n",
        "model.add(Conv1D(filters=256, kernel_size=3, activation='ReLU', input_shape=(look_back, 1))) #rectified linear unit (ReLU)\n",
        "model.add(Conv1D(filters=128, kernel_size=3, activation='ReLU'))\n",
        "model.add(Conv1D(filters=64, kernel_size=3, activation='ReLU'))\n",
        "model.add(Conv1D(filters=32, kernel_size=3, activation='ReLU'))\n",
        "model.add(Conv1D(filters=1, kernel_size=3, activation='ReLU'))"
      ]
    },
    {
      "cell_type": "code",
      "execution_count": null,
      "metadata": {
        "id": "8Hcjt9QcdZfp"
      },
      "outputs": [],
      "source": [
        "# Thêm tầng average pooling\n",
        "model.add(GlobalAveragePooling1D())"
      ]
    },
    {
      "cell_type": "code",
      "execution_count": null,
      "metadata": {
        "id": "_y7dAKZ7eNsK"
      },
      "outputs": [],
      "source": [
        "# Biên dịch mô hình Compile model\n",
        "model.compile(loss='mean_squared_error', optimizer='adam')"
      ]
    },
    {
      "cell_type": "code",
      "execution_count": null,
      "metadata": {
        "colab": {
          "base_uri": "https://localhost:8080/"
        },
        "id": "BBiZC7LvggAW",
        "outputId": "9bebebc7-5ac2-4a2b-a2fd-340f4e9e793d"
      },
      "outputs": [
        {
          "name": "stdout",
          "output_type": "stream",
          "text": [
            "Epoch 1/50\n",
            "23/23 [==============================] - 2s 44ms/step - loss: 0.0180 - val_loss: 0.0032\n",
            "Epoch 2/50\n",
            "23/23 [==============================] - 1s 36ms/step - loss: 0.0038 - val_loss: 7.2702e-04\n",
            "Epoch 3/50\n",
            "23/23 [==============================] - 1s 38ms/step - loss: 0.0030 - val_loss: 5.4717e-04\n",
            "Epoch 4/50\n",
            "23/23 [==============================] - 1s 37ms/step - loss: 0.0031 - val_loss: 0.0018\n",
            "Epoch 5/50\n",
            "23/23 [==============================] - 1s 37ms/step - loss: 0.0029 - val_loss: 0.0012\n",
            "Epoch 6/50\n",
            "23/23 [==============================] - 1s 36ms/step - loss: 0.0029 - val_loss: 0.0021\n",
            "Epoch 7/50\n",
            "23/23 [==============================] - 1s 36ms/step - loss: 0.0028 - val_loss: 0.0018\n",
            "Epoch 8/50\n",
            "23/23 [==============================] - 1s 35ms/step - loss: 0.0027 - val_loss: 0.0017\n",
            "Epoch 9/50\n",
            "23/23 [==============================] - 1s 35ms/step - loss: 0.0027 - val_loss: 0.0031\n",
            "Epoch 10/50\n",
            "23/23 [==============================] - 1s 36ms/step - loss: 0.0026 - val_loss: 0.0025\n",
            "Epoch 11/50\n",
            "23/23 [==============================] - 1s 46ms/step - loss: 0.0025 - val_loss: 0.0025\n",
            "Epoch 12/50\n",
            "23/23 [==============================] - 1s 62ms/step - loss: 0.0027 - val_loss: 8.7648e-04\n",
            "Epoch 13/50\n",
            "23/23 [==============================] - 1s 64ms/step - loss: 0.0025 - val_loss: 9.8989e-04\n",
            "Epoch 14/50\n",
            "23/23 [==============================] - 1s 59ms/step - loss: 0.0024 - val_loss: 0.0013\n",
            "Epoch 15/50\n",
            "23/23 [==============================] - 1s 38ms/step - loss: 0.0025 - val_loss: 0.0036\n",
            "Epoch 16/50\n",
            "23/23 [==============================] - 1s 36ms/step - loss: 0.0023 - val_loss: 0.0013\n",
            "Epoch 17/50\n",
            "23/23 [==============================] - 1s 42ms/step - loss: 0.0025 - val_loss: 4.5590e-04\n",
            "Epoch 18/50\n",
            "23/23 [==============================] - 1s 42ms/step - loss: 0.0035 - val_loss: 0.0131\n",
            "Epoch 19/50\n",
            "23/23 [==============================] - 1s 42ms/step - loss: 0.0031 - val_loss: 0.0028\n",
            "Epoch 20/50\n",
            "23/23 [==============================] - 1s 35ms/step - loss: 0.0024 - val_loss: 9.0861e-04\n",
            "Epoch 21/50\n",
            "23/23 [==============================] - 1s 36ms/step - loss: 0.0023 - val_loss: 5.4121e-04\n",
            "Epoch 22/50\n",
            "23/23 [==============================] - 1s 36ms/step - loss: 0.0025 - val_loss: 0.0031\n",
            "Epoch 23/50\n",
            "23/23 [==============================] - 1s 35ms/step - loss: 0.0027 - val_loss: 3.8563e-04\n",
            "Epoch 24/50\n",
            "23/23 [==============================] - 1s 36ms/step - loss: 0.0027 - val_loss: 9.2126e-04\n",
            "Epoch 25/50\n",
            "23/23 [==============================] - 1s 37ms/step - loss: 0.0022 - val_loss: 0.0026\n",
            "Epoch 26/50\n",
            "23/23 [==============================] - 1s 44ms/step - loss: 0.0021 - val_loss: 0.0027\n",
            "Epoch 27/50\n",
            "23/23 [==============================] - 1s 63ms/step - loss: 0.0026 - val_loss: 0.0013\n",
            "Epoch 28/50\n",
            "23/23 [==============================] - 1s 62ms/step - loss: 0.0033 - val_loss: 0.0042\n",
            "Epoch 29/50\n",
            "23/23 [==============================] - 1s 60ms/step - loss: 0.0023 - val_loss: 3.6619e-04\n",
            "Epoch 30/50\n",
            "23/23 [==============================] - 1s 42ms/step - loss: 0.0022 - val_loss: 0.0024\n",
            "Epoch 31/50\n",
            "23/23 [==============================] - 1s 36ms/step - loss: 0.0020 - val_loss: 0.0011\n",
            "Epoch 32/50\n",
            "23/23 [==============================] - 1s 35ms/step - loss: 0.0019 - val_loss: 7.9092e-04\n",
            "Epoch 33/50\n",
            "23/23 [==============================] - 1s 36ms/step - loss: 0.0021 - val_loss: 0.0045\n",
            "Epoch 34/50\n",
            "23/23 [==============================] - 1s 36ms/step - loss: 0.0019 - val_loss: 8.6588e-04\n",
            "Epoch 35/50\n",
            "23/23 [==============================] - 1s 35ms/step - loss: 0.0017 - val_loss: 0.0023\n",
            "Epoch 36/50\n",
            "23/23 [==============================] - 1s 36ms/step - loss: 0.0024 - val_loss: 0.0039\n",
            "Epoch 37/50\n",
            "23/23 [==============================] - 1s 37ms/step - loss: 0.0018 - val_loss: 3.0257e-04\n",
            "Epoch 38/50\n",
            "23/23 [==============================] - 1s 36ms/step - loss: 0.0017 - val_loss: 0.0017\n",
            "Epoch 39/50\n",
            "23/23 [==============================] - 1s 36ms/step - loss: 0.0018 - val_loss: 0.0019\n",
            "Epoch 40/50\n",
            "23/23 [==============================] - 1s 36ms/step - loss: 0.0016 - val_loss: 0.0026\n",
            "Epoch 41/50\n",
            "23/23 [==============================] - 1s 35ms/step - loss: 0.0020 - val_loss: 0.0027\n",
            "Epoch 42/50\n",
            "23/23 [==============================] - 1s 51ms/step - loss: 0.0016 - val_loss: 7.5884e-04\n",
            "Epoch 43/50\n",
            "23/23 [==============================] - 1s 64ms/step - loss: 0.0017 - val_loss: 9.2258e-04\n",
            "Epoch 44/50\n",
            "23/23 [==============================] - 1s 62ms/step - loss: 0.0014 - val_loss: 0.0016\n",
            "Epoch 45/50\n",
            "23/23 [==============================] - 1s 59ms/step - loss: 0.0013 - val_loss: 5.1229e-04\n",
            "Epoch 46/50\n",
            "23/23 [==============================] - 1s 36ms/step - loss: 0.0014 - val_loss: 3.9706e-04\n",
            "Epoch 47/50\n",
            "23/23 [==============================] - 1s 36ms/step - loss: 0.0016 - val_loss: 3.1140e-04\n",
            "Epoch 48/50\n",
            "23/23 [==============================] - 1s 35ms/step - loss: 0.0012 - val_loss: 0.0029\n",
            "Epoch 49/50\n",
            "23/23 [==============================] - 1s 36ms/step - loss: 0.0013 - val_loss: 2.3743e-04\n",
            "Epoch 50/50\n",
            "23/23 [==============================] - 1s 36ms/step - loss: 0.0019 - val_loss: 3.1248e-04\n"
          ]
        },
        {
          "data": {
            "text/plain": [
              "<keras.src.callbacks.History at 0x7f0f40563e50>"
            ]
          },
          "execution_count": 13,
          "metadata": {},
          "output_type": "execute_result"
        }
      ],
      "source": [
        "# Huấn luyện mô hình\n",
        "model.fit(X_train, Y_train, epochs=50, batch_size=64, validation_data=(X_val, Y_val))"
      ]
    },
    {
      "cell_type": "code",
      "execution_count": null,
      "metadata": {
        "colab": {
          "base_uri": "https://localhost:8080/"
        },
        "id": "QGqqnPFCrk0r",
        "outputId": "85c7ad8a-fb99-46f8-f317-a089dd9f9f1b"
      },
      "outputs": [
        {
          "name": "stdout",
          "output_type": "stream",
          "text": [
            "13/13 [==============================] - 0s 6ms/step\n",
            "6/6 [==============================] - 0s 6ms/step\n"
          ]
        }
      ],
      "source": [
        "# Dự báo\n",
        "test_predict = model.predict(X_test)\n",
        "val_predict = model.predict(X_val)\n",
        "\n",
        "test_predict = scaler.inverse_transform(test_predict)\n",
        "Y_test = scaler.inverse_transform([Y_test])\n",
        "val_predict = scaler.inverse_transform(val_predict)\n",
        "Y_val = scaler.inverse_transform([Y_val])"
      ]
    },
    {
      "cell_type": "code",
      "execution_count": null,
      "metadata": {
        "colab": {
          "base_uri": "https://localhost:8080/"
        },
        "id": "4YHFlm39rnM6",
        "outputId": "53bf94a1-86eb-461a-8e33-620f3fb3ca12"
      },
      "outputs": [
        {
          "name": "stdout",
          "output_type": "stream",
          "text": [
            "RMSE trên tập test là: 170.46648175284926\n",
            "MAPE trên tập test là: 7.653524712883843 %\n",
            "MDA trên tập test là: 47.103274559193956 %\n"
          ]
        }
      ],
      "source": [
        "# Hàm tính MDA\n",
        "def calculate_mda(y_true, y_pred):\n",
        "    y_true_diff = np.diff(y_true)\n",
        "    y_pred_diff = np.diff(y_pred)\n",
        "    correct_direction = np.sign(y_true_diff) == np.sign(y_pred_diff)\n",
        "    return np.mean(correct_direction) * 100\n",
        "\n",
        "# Tính toán RMSE, MAE và MAPE trên tập test\n",
        "test_score_rmse = np.sqrt(mean_squared_error(Y_test[0], test_predict[:, 0]))\n",
        "test_score_mape = mean_absolute_percentage_error(Y_test[0], test_predict[:, 0]) * 100\n",
        "test_score_mda = calculate_mda(Y_test[0], test_predict[:, 0])\n",
        "\n",
        "print('RMSE trên tập test là:', test_score_rmse)\n",
        "print('MAPE trên tập test là:', test_score_mape, '%')\n",
        "print('MDA trên tập test là:', test_score_mda, '%')"
      ]
    },
    {
      "cell_type": "code",
      "execution_count": null,
      "metadata": {
        "colab": {
          "base_uri": "https://localhost:8080/"
        },
        "id": "xz2ZqSUWrsNM",
        "outputId": "148e0640-29f4-404b-9c45-3efe32a40f27"
      },
      "outputs": [
        {
          "name": "stdout",
          "output_type": "stream",
          "text": [
            "1/1 [==============================] - 0s 19ms/step\n",
            "1/1 [==============================] - 0s 19ms/step\n",
            "1/1 [==============================] - 0s 21ms/step\n",
            "1/1 [==============================] - 0s 18ms/step\n",
            "1/1 [==============================] - 0s 18ms/step\n",
            "1/1 [==============================] - 0s 20ms/step\n",
            "1/1 [==============================] - 0s 18ms/step\n",
            "1/1 [==============================] - 0s 21ms/step\n",
            "1/1 [==============================] - 0s 18ms/step\n",
            "1/1 [==============================] - 0s 22ms/step\n",
            "1/1 [==============================] - 0s 20ms/step\n",
            "1/1 [==============================] - 0s 20ms/step\n",
            "1/1 [==============================] - 0s 22ms/step\n",
            "1/1 [==============================] - 0s 22ms/step\n",
            "1/1 [==============================] - 0s 20ms/step\n",
            "1/1 [==============================] - 0s 20ms/step\n",
            "1/1 [==============================] - 0s 21ms/step\n",
            "1/1 [==============================] - 0s 26ms/step\n",
            "1/1 [==============================] - 0s 18ms/step\n",
            "1/1 [==============================] - 0s 20ms/step\n",
            "1/1 [==============================] - 0s 20ms/step\n",
            "1/1 [==============================] - 0s 20ms/step\n",
            "1/1 [==============================] - 0s 23ms/step\n",
            "1/1 [==============================] - 0s 19ms/step\n",
            "1/1 [==============================] - 0s 19ms/step\n",
            "1/1 [==============================] - 0s 18ms/step\n",
            "1/1 [==============================] - 0s 18ms/step\n",
            "1/1 [==============================] - 0s 19ms/step\n",
            "1/1 [==============================] - 0s 19ms/step\n",
            "1/1 [==============================] - 0s 19ms/step\n",
            "1/1 [==============================] - 0s 36ms/step\n",
            "1/1 [==============================] - 0s 61ms/step\n",
            "1/1 [==============================] - 0s 31ms/step\n",
            "1/1 [==============================] - 0s 45ms/step\n",
            "1/1 [==============================] - 0s 76ms/step\n",
            "1/1 [==============================] - 0s 41ms/step\n",
            "1/1 [==============================] - 0s 51ms/step\n",
            "1/1 [==============================] - 0s 32ms/step\n",
            "1/1 [==============================] - 0s 67ms/step\n",
            "1/1 [==============================] - 0s 38ms/step\n",
            "1/1 [==============================] - 0s 32ms/step\n",
            "1/1 [==============================] - 0s 38ms/step\n",
            "1/1 [==============================] - 0s 36ms/step\n",
            "1/1 [==============================] - 0s 33ms/step\n",
            "1/1 [==============================] - 0s 40ms/step\n",
            "1/1 [==============================] - 0s 37ms/step\n",
            "1/1 [==============================] - 0s 27ms/step\n",
            "1/1 [==============================] - 0s 38ms/step\n",
            "1/1 [==============================] - 0s 37ms/step\n",
            "1/1 [==============================] - 0s 21ms/step\n",
            "1/1 [==============================] - 0s 21ms/step\n",
            "1/1 [==============================] - 0s 19ms/step\n",
            "1/1 [==============================] - 0s 23ms/step\n",
            "1/1 [==============================] - 0s 18ms/step\n",
            "1/1 [==============================] - 0s 19ms/step\n",
            "1/1 [==============================] - 0s 19ms/step\n",
            "1/1 [==============================] - 0s 18ms/step\n",
            "1/1 [==============================] - 0s 18ms/step\n",
            "1/1 [==============================] - 0s 23ms/step\n",
            "1/1 [==============================] - 0s 19ms/step\n",
            "1/1 [==============================] - 0s 19ms/step\n",
            "1/1 [==============================] - 0s 19ms/step\n",
            "1/1 [==============================] - 0s 19ms/step\n",
            "1/1 [==============================] - 0s 18ms/step\n",
            "1/1 [==============================] - 0s 19ms/step\n",
            "1/1 [==============================] - 0s 21ms/step\n",
            "1/1 [==============================] - 0s 20ms/step\n",
            "1/1 [==============================] - 0s 20ms/step\n",
            "1/1 [==============================] - 0s 18ms/step\n",
            "1/1 [==============================] - 0s 21ms/step\n",
            "1/1 [==============================] - 0s 19ms/step\n",
            "1/1 [==============================] - 0s 19ms/step\n",
            "1/1 [==============================] - 0s 19ms/step\n",
            "1/1 [==============================] - 0s 19ms/step\n",
            "1/1 [==============================] - 0s 19ms/step\n",
            "1/1 [==============================] - 0s 21ms/step\n",
            "1/1 [==============================] - 0s 20ms/step\n",
            "1/1 [==============================] - 0s 19ms/step\n",
            "1/1 [==============================] - 0s 18ms/step\n",
            "1/1 [==============================] - 0s 19ms/step\n",
            "1/1 [==============================] - 0s 20ms/step\n",
            "1/1 [==============================] - 0s 35ms/step\n",
            "1/1 [==============================] - 0s 30ms/step\n",
            "1/1 [==============================] - 0s 29ms/step\n",
            "1/1 [==============================] - 0s 38ms/step\n",
            "1/1 [==============================] - 0s 28ms/step\n",
            "1/1 [==============================] - 0s 36ms/step\n",
            "1/1 [==============================] - 0s 42ms/step\n",
            "1/1 [==============================] - 0s 30ms/step\n",
            "1/1 [==============================] - 0s 35ms/step\n",
            "1/1 [==============================] - 0s 30ms/step\n",
            "1/1 [==============================] - 0s 32ms/step\n",
            "1/1 [==============================] - 0s 29ms/step\n",
            "1/1 [==============================] - 0s 29ms/step\n",
            "1/1 [==============================] - 0s 33ms/step\n",
            "1/1 [==============================] - 0s 40ms/step\n",
            "1/1 [==============================] - 0s 29ms/step\n",
            "1/1 [==============================] - 0s 28ms/step\n",
            "1/1 [==============================] - 0s 29ms/step\n",
            "1/1 [==============================] - 0s 34ms/step\n",
            "[[2006.906 ]\n",
            " [2028.0656]\n",
            " [2021.2646]\n",
            " [2002.0258]\n",
            " [1991.9368]\n",
            " [1997.5017]\n",
            " [2011.5698]\n",
            " [2028.0562]\n",
            " [2043.9775]\n",
            " [2058.4084]\n",
            " [2071.178 ]\n",
            " [2084.3389]\n",
            " [2100.268 ]\n",
            " [2117.649 ]\n",
            " [2131.6646]\n",
            " [2140.5688]\n",
            " [2148.8594]\n",
            " [2161.5127]\n",
            " [2170.8325]\n",
            " [2164.5283]\n",
            " [2147.3218]\n",
            " [2139.4336]\n",
            " [2149.456 ]\n",
            " [2167.22  ]\n",
            " [2182.7065]\n",
            " [2196.3132]\n",
            " [2212.444 ]\n",
            " [2229.5645]\n",
            " [2243.8357]\n",
            " [2254.1855]\n",
            " [2262.4644]\n",
            " [2270.337 ]\n",
            " [2278.2532]\n",
            " [2285.9934]\n",
            " [2293.1912]\n",
            " [2299.6763]\n",
            " [2305.822 ]\n",
            " [2312.3887]\n",
            " [2319.6477]\n",
            " [2327.1292]\n",
            " [2334.938 ]\n",
            " [2344.8264]\n",
            " [2358.5945]\n",
            " [2375.3137]\n",
            " [2391.5032]\n",
            " [2404.4966]\n",
            " [2414.5837]\n",
            " [2423.5044]\n",
            " [2432.0771]\n",
            " [2440.081 ]\n",
            " [2447.5955]\n",
            " [2455.4019]\n",
            " [2464.1655]\n",
            " [2473.8645]\n",
            " [2484.1064]\n",
            " [2494.6438]\n",
            " [2505.5122]\n",
            " [2516.829 ]\n",
            " [2528.6099]\n",
            " [2540.7473]\n",
            " [2553.1023]\n",
            " [2565.5964]\n",
            " [2578.165 ]\n",
            " [2590.5605]\n",
            " [2602.2803]\n",
            " [2612.8955]\n",
            " [2622.5115]\n",
            " [2631.8042]\n",
            " [2641.505 ]\n",
            " [2651.904 ]\n",
            " [2662.8884]\n",
            " [2674.2852]\n",
            " [2686.027 ]\n",
            " [2698.038 ]\n",
            " [2710.127 ]\n",
            " [2722.0554]\n",
            " [2733.6897]\n",
            " [2745.024 ]\n",
            " [2756.0938]\n",
            " [2766.891 ]\n",
            " [2777.3699]\n",
            " [2787.501 ]\n",
            " [2797.2852]\n",
            " [2806.7332]\n",
            " [2815.8625]\n",
            " [2824.7346]\n",
            " [2833.4978]\n",
            " [2842.361 ]\n",
            " [2851.4885]\n",
            " [2860.9036]\n",
            " [2870.456 ]\n",
            " [2879.917 ]\n",
            " [2889.1096]\n",
            " [2897.954 ]\n",
            " [2906.4348]\n",
            " [2914.5532]\n",
            " [2922.3281]\n",
            " [2929.8118]\n",
            " [2937.0813]\n",
            " [2944.2048]]\n"
          ]
        }
      ],
      "source": [
        "# Dự báo giá trị 100 ngày trong tương lai\n",
        "last_100_days = price_scaled[-100:]\n",
        "next_100_days = []\n",
        "for i in range(100):\n",
        "    x = last_100_days[-look_back:].reshape(1, look_back, 1)\n",
        "    y_hat = model.predict(x)\n",
        "    next_100_days.append(y_hat)\n",
        "    last_100_days = np.append(last_100_days, y_hat, axis=0)\n",
        "\n",
        "next_100_days = np.array(next_100_days).reshape(-1, 1)\n",
        "next_100_days = scaler.inverse_transform(next_100_days)\n",
        "\n",
        "print(next_100_days)"
      ]
    },
    {
      "cell_type": "code",
      "execution_count": null,
      "metadata": {
        "id": "qMMbGPn5sZcl"
      },
      "outputs": [],
      "source": [
        "test_predict_df = pd.DataFrame(test_predict)\n",
        "test_predict_index = range(len(train_data)+look_back, len(train_data)+look_back+len(test_predict))\n",
        "test_predict_df.index = test_predict_index\n",
        "\n",
        "val_predict_df = pd.DataFrame(val_predict)\n",
        "val_predict_index = range(len(train_data)+len(test_data)+look_back, len(train_data)+len(test_data)+look_back+len(val_predict))\n",
        "val_predict_df.index = val_predict_index\n",
        "\n",
        "next_100_days_df = pd.DataFrame(next_100_days)\n",
        "next_100_index = range(len(data), len(data)+len(next_100_days))\n",
        "next_100_days_df.index = next_100_index\n",
        "\n",
        "train_data_df = data[:train_size][['Close']]\n",
        "test_data_df = data[train_size:train_size + test_size][['Close']]\n",
        "val_data_df = data[train_size+test_size:][['Close']]"
      ]
    },
    {
      "cell_type": "code",
      "execution_count": null,
      "metadata": {
        "colab": {
          "base_uri": "https://localhost:8080/",
          "height": 432
        },
        "id": "ZqgjGLuzsisj",
        "outputId": "88b8abd2-be32-4899-89a4-ce5044931edc"
      },
      "outputs": [
        {
          "data": {
            "image/png": "[encoded data removed]",
            "text/plain": [
              "<Figure size 640x480 with 1 Axes>"
            ]
          },
          "metadata": {},
          "output_type": "display_data"
        }
      ],
      "source": [
        "# Vẽ đồ thị các giá trị từ train tới validate và dự đoán 100 ngày sau\n",
        "plt.plot(train_data_df, label='Train')\n",
        "plt.plot(test_data_df, label='Actual Test')\n",
        "plt.plot(test_predict_df, label='Predicted Test')\n",
        "plt.plot(val_data_df, label='Validate')\n",
        "plt.plot(val_predict_df, label='Predicted Validate')\n",
        "plt.plot(next_100_days_df, label='Next 100 days')\n",
        "plt.legend()\n",
        "plt.show()"
      ]
    }
  ],
  "metadata": {
    "colab": {
      "provenance": []
    },
    "kernelspec": {
      "display_name": "Python 3",
      "name": "python3"
    },
    "language_info": {
      "name": "python"
    }
  },
  "nbformat": 4,
  "nbformat_minor": 0
}
