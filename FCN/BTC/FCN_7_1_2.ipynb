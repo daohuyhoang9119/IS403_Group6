{
  "cells": [
    {
      "cell_type": "code",
      "execution_count": 33,
      "metadata": {
        "id": "oFhtSYuhO8Ti"
      },
      "outputs": [],
      "source": [
        "import numpy as np\n",
        "import pandas as pd\n",
        "from tensorflow.keras.models import Sequential\n",
        "from tensorflow.keras.layers import Conv1D, GlobalAveragePooling1D\n",
        "from sklearn.preprocessing import MinMaxScaler\n",
        "from sklearn.metrics import mean_squared_error, mean_absolute_error, mean_absolute_percentage_error\n",
        "import matplotlib.pyplot as plt"
      ]
    },
    {
      "cell_type": "code",
      "execution_count": 34,
      "metadata": {
        "id": "njgDJ7ifPp2V"
      },
      "outputs": [],
      "source": [
        "# 2. Đọc file csv và gắn index với giá Close\n",
        "data = pd.read_csv('./data/BTC-USD.csv')\n",
        "\n",
        "# Hàm chuyển giá từ chuỗi sang số\n",
        "def convert_str_to_number(value):\n",
        "    if isinstance(value, str):\n",
        "        return float(value.replace(',', ''))\n",
        "    else:\n",
        "        return float(value)\n",
        "\n",
        "# Áp dụng hàm chuyển đổi cho các cột giá trị\n",
        "data['Close'] = data['Close'].apply(convert_str_to_number)\n",
        "data['Open'] = data['Open'].apply(convert_str_to_number)\n",
        "data['High'] = data['High'].apply(convert_str_to_number)\n",
        "data['Low'] = data['Low'].apply(convert_str_to_number)\n",
        "\n",
        "data\n",
        "\n",
        "df1=data.reset_index()['Close']"
      ]
    },
    {
      "cell_type": "code",
      "execution_count": 35,
      "metadata": {
        "id": "CBDLccLCWQUc"
      },
      "outputs": [],
      "source": [
        "# 3. Scaler data\n",
        "scaler=MinMaxScaler(feature_range=(0,1))\n",
        "df1=scaler.fit_transform(np.array(df1).reshape(-1,1))\n",
        "price = data['Close'].values\n",
        "price = price.reshape(-1, 1)\n",
        "scaler = MinMaxScaler(feature_range=(0, 1))\n",
        "price_scaled = scaler.fit_transform(price)"
      ]
    },
    {
      "cell_type": "code",
      "execution_count": 36,
      "metadata": {
        "id": "Qq0XKA_7YUmF"
      },
      "outputs": [],
      "source": [
        "# Chia dữ liệu thành train test validate\n",
        "train_size = int(len(df1) * 0.7)\n",
        "test_size = int(len(df1) * 0.2)\n",
        "val_size = len(df1) - train_size - test_size"
      ]
    },
    {
      "cell_type": "code",
      "execution_count": 37,
      "metadata": {
        "id": "-mmkPMs-YtBH"
      },
      "outputs": [],
      "source": [
        "train_data = df1[:train_size]\n",
        "test_data = df1[train_size:train_size+test_size]\n",
        "val_data = df1[train_size+test_size:]"
      ]
    },
    {
      "cell_type": "code",
      "execution_count": 38,
      "metadata": {
        "id": "79vKaxEnZL0t"
      },
      "outputs": [],
      "source": [
        "def create_dataset(dataset, look_back=1):\n",
        "    X, Y = [], []\n",
        "    for i in range(len(dataset) - look_back):\n",
        "        X.append(dataset[i:i + look_back, 0])\n",
        "        Y.append(dataset[i + look_back, 0])\n",
        "    return np.array(X), np.array(Y)\n",
        "\n",
        "look_back = 30\n",
        "X_train, Y_train = create_dataset(train_data, look_back)\n",
        "X_test, Y_test = create_dataset(test_data, look_back)\n",
        "X_val, Y_val = create_dataset(val_data, look_back)\n",
        "\n",
        "X_train = X_train.reshape(X_train.shape[0], X_train.shape[1], 1)\n",
        "X_test = X_test.reshape(X_test.shape[0], X_test.shape[1], 1)\n",
        "X_val = X_val.reshape(X_val.shape[0], X_val.shape[1], 1)"
      ]
    },
    {
      "cell_type": "code",
      "execution_count": 39,
      "metadata": {
        "id": "KFwRJGxOaThP"
      },
      "outputs": [],
      "source": [
        "# Xây dựng mô hình\n",
        "model = Sequential()"
      ]
    },
    {
      "cell_type": "code",
      "execution_count": 40,
      "metadata": {
        "id": "OcMxUydba25T"
      },
      "outputs": [],
      "source": [
        "# Thêm lớp tích chập (Convolution Layer)\n",
        "model.add(Conv1D(filters=256, kernel_size=3, activation='ReLU', input_shape=(look_back, 1))) #rectified linear unit (ReLU)\n",
        "model.add(Conv1D(filters=128, kernel_size=3, activation='ReLU'))\n",
        "model.add(Conv1D(filters=64, kernel_size=3, activation='ReLU'))\n",
        "model.add(Conv1D(filters=32, kernel_size=3, activation='ReLU'))\n",
        "model.add(Conv1D(filters=1, kernel_size=3, activation='ReLU'))"
      ]
    },
    {
      "cell_type": "code",
      "execution_count": 41,
      "metadata": {
        "id": "8Hcjt9QcdZfp"
      },
      "outputs": [],
      "source": [
        "# Thêm tầng average pooling\n",
        "model.add(GlobalAveragePooling1D())"
      ]
    },
    {
      "cell_type": "code",
      "execution_count": 42,
      "metadata": {
        "id": "_y7dAKZ7eNsK"
      },
      "outputs": [],
      "source": [
        "# Biên dịch mô hình Compile model\n",
        "model.compile(loss='mean_squared_error', optimizer='adam')"
      ]
    },
    {
      "cell_type": "code",
      "execution_count": 43,
      "metadata": {
        "colab": {
          "base_uri": "https://localhost:8080/"
        },
        "id": "BBiZC7LvggAW",
        "outputId": "50b28e54-ec7e-44e2-b477-6bc846acffd2"
      },
      "outputs": [
        {
          "name": "stdout",
          "output_type": "stream",
          "text": [
            "Epoch 1/50\n",
            "23/23 [==============================] - 2s 48ms/step - loss: 0.0363 - val_loss: 0.0045\n",
            "Epoch 2/50\n",
            "23/23 [==============================] - 1s 40ms/step - loss: 0.0042 - val_loss: 0.0017\n",
            "Epoch 3/50\n",
            "23/23 [==============================] - 1s 40ms/step - loss: 0.0033 - val_loss: 0.0018\n",
            "Epoch 4/50\n",
            "23/23 [==============================] - 1s 38ms/step - loss: 0.0031 - val_loss: 0.0012\n",
            "Epoch 5/50\n",
            "23/23 [==============================] - 1s 39ms/step - loss: 0.0030 - val_loss: 0.0014\n",
            "Epoch 6/50\n",
            "23/23 [==============================] - 1s 39ms/step - loss: 0.0029 - val_loss: 0.0013\n",
            "Epoch 7/50\n",
            "23/23 [==============================] - 1s 41ms/step - loss: 0.0031 - val_loss: 0.0012\n",
            "Epoch 8/50\n",
            "23/23 [==============================] - 1s 39ms/step - loss: 0.0028 - val_loss: 0.0013\n",
            "Epoch 9/50\n",
            "23/23 [==============================] - 1s 59ms/step - loss: 0.0028 - val_loss: 0.0012\n",
            "Epoch 10/50\n",
            "23/23 [==============================] - 2s 69ms/step - loss: 0.0029 - val_loss: 0.0012\n",
            "Epoch 11/50\n",
            "23/23 [==============================] - 2s 68ms/step - loss: 0.0026 - val_loss: 0.0041\n",
            "Epoch 12/50\n",
            "23/23 [==============================] - 1s 61ms/step - loss: 0.0028 - val_loss: 0.0025\n",
            "Epoch 13/50\n",
            "23/23 [==============================] - 1s 41ms/step - loss: 0.0026 - val_loss: 0.0029\n",
            "Epoch 14/50\n",
            "23/23 [==============================] - 1s 40ms/step - loss: 0.0025 - val_loss: 0.0029\n",
            "Epoch 15/50\n",
            "23/23 [==============================] - 1s 40ms/step - loss: 0.0024 - val_loss: 0.0018\n",
            "Epoch 16/50\n",
            "23/23 [==============================] - 1s 39ms/step - loss: 0.0025 - val_loss: 0.0012\n",
            "Epoch 17/50\n",
            "23/23 [==============================] - 1s 40ms/step - loss: 0.0027 - val_loss: 0.0049\n",
            "Epoch 18/50\n",
            "23/23 [==============================] - 1s 40ms/step - loss: 0.0025 - val_loss: 0.0038\n",
            "Epoch 19/50\n",
            "23/23 [==============================] - 1s 40ms/step - loss: 0.0024 - val_loss: 0.0062\n",
            "Epoch 20/50\n",
            "23/23 [==============================] - 1s 41ms/step - loss: 0.0023 - val_loss: 0.0032\n",
            "Epoch 21/50\n",
            "23/23 [==============================] - 1s 43ms/step - loss: 0.0023 - val_loss: 0.0047\n",
            "Epoch 22/50\n",
            "23/23 [==============================] - 1s 41ms/step - loss: 0.0023 - val_loss: 0.0053\n",
            "Epoch 23/50\n",
            "23/23 [==============================] - 1s 52ms/step - loss: 0.0025 - val_loss: 0.0133\n",
            "Epoch 24/50\n",
            "23/23 [==============================] - 2s 69ms/step - loss: 0.0026 - val_loss: 0.0040\n",
            "Epoch 25/50\n",
            "23/23 [==============================] - 2s 70ms/step - loss: 0.0022 - val_loss: 0.0023\n",
            "Epoch 26/50\n",
            "23/23 [==============================] - 1s 65ms/step - loss: 0.0024 - val_loss: 0.0026\n",
            "Epoch 27/50\n",
            "23/23 [==============================] - 1s 39ms/step - loss: 0.0023 - val_loss: 0.0074\n",
            "Epoch 28/50\n",
            "23/23 [==============================] - 1s 39ms/step - loss: 0.0025 - val_loss: 0.0014\n",
            "Epoch 29/50\n",
            "23/23 [==============================] - 1s 40ms/step - loss: 0.0023 - val_loss: 0.0050\n",
            "Epoch 30/50\n",
            "23/23 [==============================] - 1s 40ms/step - loss: 0.0023 - val_loss: 0.0029\n",
            "Epoch 31/50\n",
            "23/23 [==============================] - 1s 40ms/step - loss: 0.0023 - val_loss: 0.0054\n",
            "Epoch 32/50\n",
            "23/23 [==============================] - 1s 41ms/step - loss: 0.0025 - val_loss: 0.0034\n",
            "Epoch 33/50\n",
            "23/23 [==============================] - 1s 39ms/step - loss: 0.0025 - val_loss: 0.0064\n",
            "Epoch 34/50\n",
            "23/23 [==============================] - 1s 40ms/step - loss: 0.0024 - val_loss: 0.0012\n",
            "Epoch 35/50\n",
            "23/23 [==============================] - 1s 40ms/step - loss: 0.0021 - val_loss: 0.0033\n",
            "Epoch 36/50\n",
            "23/23 [==============================] - 1s 38ms/step - loss: 0.0021 - val_loss: 0.0035\n",
            "Epoch 37/50\n",
            "23/23 [==============================] - 1s 42ms/step - loss: 0.0019 - val_loss: 0.0026\n",
            "Epoch 38/50\n",
            "23/23 [==============================] - 2s 71ms/step - loss: 0.0025 - val_loss: 0.0050\n",
            "Epoch 39/50\n",
            "23/23 [==============================] - 2s 70ms/step - loss: 0.0023 - val_loss: 0.0020\n",
            "Epoch 40/50\n",
            "23/23 [==============================] - 2s 67ms/step - loss: 0.0024 - val_loss: 0.0022\n",
            "Epoch 41/50\n",
            "23/23 [==============================] - 1s 42ms/step - loss: 0.0023 - val_loss: 0.0030\n",
            "Epoch 42/50\n",
            "23/23 [==============================] - 1s 39ms/step - loss: 0.0019 - val_loss: 0.0037\n",
            "Epoch 43/50\n",
            "23/23 [==============================] - 1s 43ms/step - loss: 0.0018 - val_loss: 0.0025\n",
            "Epoch 44/50\n",
            "23/23 [==============================] - 1s 41ms/step - loss: 0.0020 - val_loss: 0.0054\n",
            "Epoch 45/50\n",
            "23/23 [==============================] - 1s 39ms/step - loss: 0.0018 - val_loss: 0.0034\n",
            "Epoch 46/50\n",
            "23/23 [==============================] - 1s 39ms/step - loss: 0.0016 - val_loss: 0.0032\n",
            "Epoch 47/50\n",
            "23/23 [==============================] - 1s 40ms/step - loss: 0.0017 - val_loss: 8.1498e-04\n",
            "Epoch 48/50\n",
            "23/23 [==============================] - 1s 40ms/step - loss: 0.0019 - val_loss: 0.0053\n",
            "Epoch 49/50\n",
            "23/23 [==============================] - 1s 40ms/step - loss: 0.0015 - val_loss: 0.0035\n",
            "Epoch 50/50\n",
            "23/23 [==============================] - 1s 40ms/step - loss: 0.0016 - val_loss: 0.0015\n"
          ]
        },
        {
          "data": {
            "text/plain": [
              "<keras.src.callbacks.History at 0x79e60b3bf520>"
            ]
          },
          "execution_count": 43,
          "metadata": {},
          "output_type": "execute_result"
        }
      ],
      "source": [
        "# Huấn luyện mô hình\n",
        "model.fit(X_train, Y_train, epochs=50, batch_size=64, validation_data=(X_val, Y_val))"
      ]
    },
    {
      "cell_type": "code",
      "execution_count": 44,
      "metadata": {
        "colab": {
          "base_uri": "https://localhost:8080/"
        },
        "id": "QGqqnPFCrk0r",
        "outputId": "df26be87-a978-4130-cf64-f8aae01ae342"
      },
      "outputs": [
        {
          "name": "stdout",
          "output_type": "stream",
          "text": [
            "13/13 [==============================] - 0s 7ms/step\n",
            "6/6 [==============================] - 0s 7ms/step\n"
          ]
        }
      ],
      "source": [
        "# Dự báo\n",
        "test_predict = model.predict(X_test)\n",
        "val_predict = model.predict(X_val)\n",
        "\n",
        "test_predict = scaler.inverse_transform(test_predict)\n",
        "Y_test = scaler.inverse_transform([Y_test])\n",
        "val_predict = scaler.inverse_transform(val_predict)\n",
        "Y_val = scaler.inverse_transform([Y_val])"
      ]
    },
    {
      "cell_type": "code",
      "execution_count": 45,
      "metadata": {
        "colab": {
          "base_uri": "https://localhost:8080/"
        },
        "id": "4YHFlm39rnM6",
        "outputId": "f1005a2f-6be4-49f5-8ad9-b8107d26cbe8"
      },
      "outputs": [
        {
          "name": "stdout",
          "output_type": "stream",
          "text": [
            "RMSE trên tập test là: 3041.3647655171685\n",
            "MAPE trên tập test là: 10.585693581579696 %\n",
            "MDA trên tập test là: 46.85138539042821 %\n"
          ]
        }
      ],
      "source": [
        "# Hàm tính MDA\n",
        "def calculate_mda(y_true, y_pred):\n",
        "    y_true_diff = np.diff(y_true)\n",
        "    y_pred_diff = np.diff(y_pred)\n",
        "    correct_direction = np.sign(y_true_diff) == np.sign(y_pred_diff)\n",
        "    return np.mean(correct_direction) * 100\n",
        "\n",
        "# Tính toán RMSE, MAE và MAPE trên tập test\n",
        "test_score_rmse = np.sqrt(mean_squared_error(Y_test[0], test_predict[:, 0]))\n",
        "test_score_mape = mean_absolute_percentage_error(Y_test[0], test_predict[:, 0]) * 100\n",
        "test_score_mda = calculate_mda(Y_test[0], test_predict[:, 0])\n",
        "\n",
        "print('RMSE trên tập test là:', test_score_rmse)\n",
        "print('MAPE trên tập test là:', test_score_mape, '%')\n",
        "print('MDA trên tập test là:', test_score_mda, '%')"
      ]
    },
    {
      "cell_type": "code",
      "execution_count": 46,
      "metadata": {
        "colab": {
          "base_uri": "https://localhost:8080/"
        },
        "id": "xz2ZqSUWrsNM",
        "outputId": "0090e805-9925-4445-af83-d7609f855e71"
      },
      "outputs": [
        {
          "name": "stdout",
          "output_type": "stream",
          "text": [
            "1/1 [==============================] - 0s 23ms/step\n",
            "1/1 [==============================] - 0s 21ms/step\n",
            "1/1 [==============================] - 0s 20ms/step\n",
            "1/1 [==============================] - 0s 27ms/step\n",
            "1/1 [==============================] - 0s 23ms/step\n",
            "1/1 [==============================] - 0s 34ms/step\n",
            "1/1 [==============================] - 0s 38ms/step\n",
            "1/1 [==============================] - 0s 32ms/step\n",
            "1/1 [==============================] - 0s 32ms/step\n",
            "1/1 [==============================] - 0s 30ms/step\n",
            "1/1 [==============================] - 0s 35ms/step\n",
            "1/1 [==============================] - 0s 30ms/step\n",
            "1/1 [==============================] - 0s 47ms/step\n",
            "1/1 [==============================] - 0s 34ms/step\n",
            "1/1 [==============================] - 0s 36ms/step\n",
            "1/1 [==============================] - 0s 34ms/step\n",
            "1/1 [==============================] - 0s 34ms/step\n",
            "1/1 [==============================] - 0s 33ms/step\n",
            "1/1 [==============================] - 0s 31ms/step\n",
            "1/1 [==============================] - 0s 32ms/step\n",
            "1/1 [==============================] - 0s 30ms/step\n",
            "1/1 [==============================] - 0s 34ms/step\n",
            "1/1 [==============================] - 0s 37ms/step\n",
            "1/1 [==============================] - 0s 33ms/step\n",
            "1/1 [==============================] - 0s 36ms/step\n",
            "1/1 [==============================] - 0s 35ms/step\n",
            "1/1 [==============================] - 0s 32ms/step\n",
            "1/1 [==============================] - 0s 31ms/step\n",
            "1/1 [==============================] - 0s 42ms/step\n",
            "1/1 [==============================] - 0s 37ms/step\n",
            "1/1 [==============================] - 0s 31ms/step\n",
            "1/1 [==============================] - 0s 36ms/step\n",
            "1/1 [==============================] - 0s 45ms/step\n",
            "1/1 [==============================] - 0s 32ms/step\n",
            "1/1 [==============================] - 0s 34ms/step\n",
            "1/1 [==============================] - 0s 30ms/step\n",
            "1/1 [==============================] - 0s 31ms/step\n",
            "1/1 [==============================] - 0s 31ms/step\n",
            "1/1 [==============================] - 0s 32ms/step\n",
            "1/1 [==============================] - 0s 31ms/step\n",
            "1/1 [==============================] - 0s 35ms/step\n",
            "1/1 [==============================] - 0s 32ms/step\n",
            "1/1 [==============================] - 0s 51ms/step\n",
            "1/1 [==============================] - 0s 36ms/step\n",
            "1/1 [==============================] - 0s 22ms/step\n",
            "1/1 [==============================] - 0s 21ms/step\n",
            "1/1 [==============================] - 0s 22ms/step\n",
            "1/1 [==============================] - 0s 21ms/step\n",
            "1/1 [==============================] - 0s 24ms/step\n",
            "1/1 [==============================] - 0s 23ms/step\n",
            "1/1 [==============================] - 0s 23ms/step\n",
            "1/1 [==============================] - 0s 23ms/step\n",
            "1/1 [==============================] - 0s 22ms/step\n",
            "1/1 [==============================] - 0s 23ms/step\n",
            "1/1 [==============================] - 0s 22ms/step\n",
            "1/1 [==============================] - 0s 29ms/step\n",
            "1/1 [==============================] - 0s 23ms/step\n",
            "1/1 [==============================] - 0s 26ms/step\n",
            "1/1 [==============================] - 0s 23ms/step\n",
            "1/1 [==============================] - 0s 26ms/step\n",
            "1/1 [==============================] - 0s 27ms/step\n",
            "1/1 [==============================] - 0s 25ms/step\n",
            "1/1 [==============================] - 0s 25ms/step\n",
            "1/1 [==============================] - 0s 24ms/step\n",
            "1/1 [==============================] - 0s 27ms/step\n",
            "1/1 [==============================] - 0s 31ms/step\n",
            "1/1 [==============================] - 0s 25ms/step\n",
            "1/1 [==============================] - 0s 23ms/step\n",
            "1/1 [==============================] - 0s 25ms/step\n",
            "1/1 [==============================] - 0s 26ms/step\n",
            "1/1 [==============================] - 0s 30ms/step\n",
            "1/1 [==============================] - 0s 23ms/step\n",
            "1/1 [==============================] - 0s 25ms/step\n",
            "1/1 [==============================] - 0s 25ms/step\n",
            "1/1 [==============================] - 0s 25ms/step\n",
            "1/1 [==============================] - 0s 23ms/step\n",
            "1/1 [==============================] - 0s 25ms/step\n",
            "1/1 [==============================] - 0s 26ms/step\n",
            "1/1 [==============================] - 0s 25ms/step\n",
            "1/1 [==============================] - 0s 27ms/step\n",
            "1/1 [==============================] - 0s 26ms/step\n",
            "1/1 [==============================] - 0s 27ms/step\n",
            "1/1 [==============================] - 0s 25ms/step\n",
            "1/1 [==============================] - 0s 23ms/step\n",
            "1/1 [==============================] - 0s 23ms/step\n",
            "1/1 [==============================] - 0s 21ms/step\n",
            "1/1 [==============================] - 0s 23ms/step\n",
            "1/1 [==============================] - 0s 25ms/step\n",
            "1/1 [==============================] - 0s 24ms/step\n",
            "1/1 [==============================] - 0s 24ms/step\n",
            "1/1 [==============================] - 0s 23ms/step\n",
            "1/1 [==============================] - 0s 24ms/step\n",
            "1/1 [==============================] - 0s 25ms/step\n",
            "1/1 [==============================] - 0s 23ms/step\n",
            "1/1 [==============================] - 0s 26ms/step\n",
            "1/1 [==============================] - 0s 27ms/step\n",
            "1/1 [==============================] - 0s 28ms/step\n",
            "1/1 [==============================] - 0s 28ms/step\n",
            "1/1 [==============================] - 0s 23ms/step\n",
            "1/1 [==============================] - 0s 24ms/step\n",
            "[[37561.926]\n",
            " [37522.02 ]\n",
            " [37390.598]\n",
            " [37297.785]\n",
            " [37313.145]\n",
            " [37411.94 ]\n",
            " [37530.137]\n",
            " [37630.215]\n",
            " [37708.004]\n",
            " [37774.984]\n",
            " [37852.14 ]\n",
            " [37954.883]\n",
            " [38080.812]\n",
            " [38216.652]\n",
            " [38349.914]\n",
            " [38471.06 ]\n",
            " [38563.7  ]\n",
            " [38606.316]\n",
            " [38596.17 ]\n",
            " [38563.504]\n",
            " [38553.58 ]\n",
            " [38580.465]\n",
            " [38620.566]\n",
            " [38650.543]\n",
            " [38673.4  ]\n",
            " [38708.105]\n",
            " [38761.914]\n",
            " [38824.777]\n",
            " [38882.34 ]\n",
            " [38928.465]\n",
            " [38967.074]\n",
            " [39003.727]\n",
            " [39040.324]\n",
            " [39074.715]\n",
            " [39103.516]\n",
            " [39124.42 ]\n",
            " [39137.133]\n",
            " [39143.074]\n",
            " [39145.13 ]\n",
            " [39147.4  ]\n",
            " [39154.387]\n",
            " [39169.055]\n",
            " [39190.93 ]\n",
            " [39216.484]\n",
            " [39241.74 ]\n",
            " [39264.867]\n",
            " [39286.29 ]\n",
            " [39306.676]\n",
            " [39325.5  ]\n",
            " [39341.414]\n",
            " [39353.74 ]\n",
            " [39363.11 ]\n",
            " [39370.867]\n",
            " [39377.984]\n",
            " [39384.668]\n",
            " [39390.72 ]\n",
            " [39396.145]\n",
            " [39401.41 ]\n",
            " [39407.23 ]\n",
            " [39414.273]\n",
            " [39422.844]\n",
            " [39432.848]\n",
            " [39443.74 ]\n",
            " [39454.67 ]\n",
            " [39464.758]\n",
            " [39473.395]\n",
            " [39480.418]\n",
            " [39486.08 ]\n",
            " [39490.74 ]\n",
            " [39494.703]\n",
            " [39498.12 ]\n",
            " [39501.17 ]\n",
            " [39504.07 ]\n",
            " [39507.066]\n",
            " [39510.344]\n",
            " [39513.926]\n",
            " [39517.754]\n",
            " [39521.76 ]\n",
            " [39525.9  ]\n",
            " [39530.14 ]\n",
            " [39534.44 ]\n",
            " [39538.67 ]\n",
            " [39542.66 ]\n",
            " [39546.24 ]\n",
            " [39549.297]\n",
            " [39551.79 ]\n",
            " [39553.797]\n",
            " [39555.453]\n",
            " [39556.938]\n",
            " [39558.395]\n",
            " [39559.91 ]\n",
            " [39561.54 ]\n",
            " [39563.273]\n",
            " [39565.117]\n",
            " [39567.035]\n",
            " [39569.008]\n",
            " [39570.977]\n",
            " [39572.895]\n",
            " [39574.723]\n",
            " [39576.42 ]]\n"
          ]
        }
      ],
      "source": [
        "# Dự báo giá trị 100 ngày trong tương lai\n",
        "last_100_days = price_scaled[-100:]\n",
        "next_100_days = []\n",
        "for i in range(100):\n",
        "    x = last_100_days[-look_back:].reshape(1, look_back, 1)\n",
        "    y_hat = model.predict(x)\n",
        "    next_100_days.append(y_hat)\n",
        "    last_100_days = np.append(last_100_days, y_hat, axis=0)\n",
        "\n",
        "next_100_days = np.array(next_100_days).reshape(-1, 1)\n",
        "next_100_days = scaler.inverse_transform(next_100_days)\n",
        "\n",
        "print(next_100_days)"
      ]
    },
    {
      "cell_type": "code",
      "execution_count": 47,
      "metadata": {
        "id": "qMMbGPn5sZcl"
      },
      "outputs": [],
      "source": [
        "test_predict_df = pd.DataFrame(test_predict)\n",
        "test_predict_index = range(len(train_data)+look_back, len(train_data)+look_back+len(test_predict))\n",
        "test_predict_df.index = test_predict_index\n",
        "\n",
        "val_predict_df = pd.DataFrame(val_predict)\n",
        "val_predict_index = range(len(train_data)+len(test_data)+look_back, len(train_data)+len(test_data)+look_back+len(val_predict))\n",
        "val_predict_df.index = val_predict_index\n",
        "\n",
        "next_100_days_df = pd.DataFrame(next_100_days)\n",
        "next_100_index = range(len(data), len(data)+len(next_100_days))\n",
        "next_100_days_df.index = next_100_index\n",
        "\n",
        "train_data_df = data[:train_size][['Close']]\n",
        "test_data_df = data[train_size:train_size + test_size][['Close']]\n",
        "val_data_df = data[train_size+test_size:][['Close']]"
      ]
    },
    {
      "cell_type": "code",
      "execution_count": 48,
      "metadata": {
        "colab": {
          "base_uri": "https://localhost:8080/",
          "height": 431
        },
        "id": "ZqgjGLuzsisj",
        "outputId": "f7db1407-91be-4b93-bdff-04ff38447101"
      },
      "outputs": [
        {
          "data": {
            "image/png": "[encoded data removed]",
            "text/plain": [
              "<Figure size 640x480 with 1 Axes>"
            ]
          },
          "metadata": {},
          "output_type": "display_data"
        }
      ],
      "source": [
        "# Vẽ đồ thị các giá trị từ train tới validate và dự đoán 100 ngày sau\n",
        "plt.plot(train_data_df, label='Train')\n",
        "plt.plot(test_data_df, label='Actual Test')\n",
        "plt.plot(test_predict_df, label='Predicted Test')\n",
        "plt.plot(val_data_df, label='Validate')\n",
        "plt.plot(val_predict_df, label='Predicted Validate')\n",
        "plt.plot(next_100_days_df, label='Next 100 days')\n",
        "plt.legend()\n",
        "plt.show()"
      ]
    }
  ],
  "metadata": {
    "colab": {
      "provenance": []
    },
    "kernelspec": {
      "display_name": "Python 3",
      "name": "python3"
    },
    "language_info": {
      "name": "python"
    }
  },
  "nbformat": 4,
  "nbformat_minor": 0
}
