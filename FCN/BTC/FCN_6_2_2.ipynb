{
  "cells": [
    {
      "cell_type": "code",
      "execution_count": 17,
      "metadata": {
        "id": "oFhtSYuhO8Ti"
      },
      "outputs": [],
      "source": [
        "import numpy as np\n",
        "import pandas as pd\n",
        "from tensorflow.keras.models import Sequential\n",
        "from tensorflow.keras.layers import Conv1D, GlobalAveragePooling1D\n",
        "from sklearn.preprocessing import MinMaxScaler\n",
        "from sklearn.metrics import mean_squared_error, mean_absolute_error, mean_absolute_percentage_error\n",
        "import matplotlib.pyplot as plt"
      ]
    },
    {
      "cell_type": "code",
      "execution_count": 18,
      "metadata": {
        "id": "njgDJ7ifPp2V"
      },
      "outputs": [],
      "source": [
        "# 2. Đọc file csv và gắn index với giá Close\n",
        "data = pd.read_csv('./data/BTC-USD.csv')\n",
        "\n",
        "# Hàm chuyển giá từ chuỗi sang số\n",
        "def convert_str_to_number(value):\n",
        "    if isinstance(value, str):\n",
        "        return float(value.replace(',', ''))\n",
        "    else:\n",
        "        return float(value)\n",
        "\n",
        "# Áp dụng hàm chuyển đổi cho các cột giá trị\n",
        "data['Close'] = data['Close'].apply(convert_str_to_number)\n",
        "data['Open'] = data['Open'].apply(convert_str_to_number)\n",
        "data['High'] = data['High'].apply(convert_str_to_number)\n",
        "data['Low'] = data['Low'].apply(convert_str_to_number)\n",
        "\n",
        "data\n",
        "\n",
        "df1=data.reset_index()['Close']"
      ]
    },
    {
      "cell_type": "code",
      "execution_count": 19,
      "metadata": {
        "id": "CBDLccLCWQUc"
      },
      "outputs": [],
      "source": [
        "# 3. Scaler data\n",
        "scaler=MinMaxScaler(feature_range=(0,1))\n",
        "df1=scaler.fit_transform(np.array(df1).reshape(-1,1))\n",
        "price = data['Close'].values\n",
        "price = price.reshape(-1, 1)\n",
        "scaler = MinMaxScaler(feature_range=(0, 1))\n",
        "price_scaled = scaler.fit_transform(price)"
      ]
    },
    {
      "cell_type": "code",
      "execution_count": 20,
      "metadata": {
        "id": "Qq0XKA_7YUmF"
      },
      "outputs": [],
      "source": [
        "# Chia dữ liệu thành train test validate\n",
        "train_size = int(len(df1) * 0.6)\n",
        "test_size = int(len(df1) * 0.2)\n",
        "val_size = len(df1) - train_size - test_size"
      ]
    },
    {
      "cell_type": "code",
      "execution_count": 21,
      "metadata": {
        "id": "-mmkPMs-YtBH"
      },
      "outputs": [],
      "source": [
        "train_data = df1[:train_size]\n",
        "test_data = df1[train_size:train_size+test_size]\n",
        "val_data = df1[train_size+test_size:]"
      ]
    },
    {
      "cell_type": "code",
      "execution_count": 22,
      "metadata": {
        "id": "79vKaxEnZL0t"
      },
      "outputs": [],
      "source": [
        "def create_dataset(dataset, look_back=1):\n",
        "    X, Y = [], []\n",
        "    for i in range(len(dataset) - look_back):\n",
        "        X.append(dataset[i:i + look_back, 0])\n",
        "        Y.append(dataset[i + look_back, 0])\n",
        "    return np.array(X), np.array(Y)\n",
        "\n",
        "look_back = 30\n",
        "X_train, Y_train = create_dataset(train_data, look_back)\n",
        "X_test, Y_test = create_dataset(test_data, look_back)\n",
        "X_val, Y_val = create_dataset(val_data, look_back)\n",
        "\n",
        "X_train = X_train.reshape(X_train.shape[0], X_train.shape[1], 1)\n",
        "X_test = X_test.reshape(X_test.shape[0], X_test.shape[1], 1)\n",
        "X_val = X_val.reshape(X_val.shape[0], X_val.shape[1], 1)"
      ]
    },
    {
      "cell_type": "code",
      "execution_count": 23,
      "metadata": {
        "id": "KFwRJGxOaThP"
      },
      "outputs": [],
      "source": [
        "# Xây dựng mô hình\n",
        "model = Sequential()"
      ]
    },
    {
      "cell_type": "code",
      "execution_count": 24,
      "metadata": {
        "id": "OcMxUydba25T"
      },
      "outputs": [],
      "source": [
        "# Thêm lớp tích chập (Convolution Layer)\n",
        "model.add(Conv1D(filters=256, kernel_size=3, activation='ReLU', input_shape=(look_back, 1))) #rectified linear unit (ReLU)\n",
        "model.add(Conv1D(filters=128, kernel_size=3, activation='ReLU'))\n",
        "model.add(Conv1D(filters=64, kernel_size=3, activation='ReLU'))\n",
        "model.add(Conv1D(filters=32, kernel_size=3, activation='ReLU'))\n",
        "model.add(Conv1D(filters=1, kernel_size=3, activation='ReLU'))"
      ]
    },
    {
      "cell_type": "code",
      "execution_count": 25,
      "metadata": {
        "id": "8Hcjt9QcdZfp"
      },
      "outputs": [],
      "source": [
        "# Thêm tầng average pooling\n",
        "model.add(GlobalAveragePooling1D())"
      ]
    },
    {
      "cell_type": "code",
      "execution_count": 26,
      "metadata": {
        "id": "_y7dAKZ7eNsK"
      },
      "outputs": [],
      "source": [
        "# Biên dịch mô hình Compile model\n",
        "model.compile(loss='mean_squared_error', optimizer='adam')"
      ]
    },
    {
      "cell_type": "code",
      "execution_count": 27,
      "metadata": {
        "colab": {
          "base_uri": "https://localhost:8080/"
        },
        "id": "BBiZC7LvggAW",
        "outputId": "bcfe3b9a-9df7-41d8-d48a-45685e08eb09"
      },
      "outputs": [
        {
          "name": "stdout",
          "output_type": "stream",
          "text": [
            "Epoch 1/50\n",
            "20/20 [==============================] - 2s 56ms/step - loss: 0.0769 - val_loss: 0.1225\n",
            "Epoch 2/50\n",
            "20/20 [==============================] - 1s 70ms/step - loss: 0.0769 - val_loss: 0.1225\n",
            "Epoch 3/50\n",
            "20/20 [==============================] - 1s 71ms/step - loss: 0.0769 - val_loss: 0.1225\n",
            "Epoch 4/50\n",
            "20/20 [==============================] - 1s 71ms/step - loss: 0.0769 - val_loss: 0.1225\n",
            "Epoch 5/50\n",
            "20/20 [==============================] - 1s 51ms/step - loss: 0.0769 - val_loss: 0.1225\n",
            "Epoch 6/50\n",
            "20/20 [==============================] - 1s 41ms/step - loss: 0.0769 - val_loss: 0.1225\n",
            "Epoch 7/50\n",
            "20/20 [==============================] - 1s 41ms/step - loss: 0.0769 - val_loss: 0.1225\n",
            "Epoch 8/50\n",
            "20/20 [==============================] - 1s 41ms/step - loss: 0.0769 - val_loss: 0.1225\n",
            "Epoch 9/50\n",
            "20/20 [==============================] - 1s 40ms/step - loss: 0.0769 - val_loss: 0.1225\n",
            "Epoch 10/50\n",
            "20/20 [==============================] - 1s 40ms/step - loss: 0.0769 - val_loss: 0.1225\n",
            "Epoch 11/50\n",
            "20/20 [==============================] - 1s 40ms/step - loss: 0.0769 - val_loss: 0.1225\n",
            "Epoch 12/50\n",
            "20/20 [==============================] - 1s 40ms/step - loss: 0.0769 - val_loss: 0.1225\n",
            "Epoch 13/50\n",
            "20/20 [==============================] - 1s 39ms/step - loss: 0.0769 - val_loss: 0.1225\n",
            "Epoch 14/50\n",
            "20/20 [==============================] - 1s 40ms/step - loss: 0.0769 - val_loss: 0.1225\n",
            "Epoch 15/50\n",
            "20/20 [==============================] - 1s 40ms/step - loss: 0.0769 - val_loss: 0.1225\n",
            "Epoch 16/50\n",
            "20/20 [==============================] - 1s 40ms/step - loss: 0.0769 - val_loss: 0.1225\n",
            "Epoch 17/50\n",
            "20/20 [==============================] - 1s 44ms/step - loss: 0.0769 - val_loss: 0.1225\n",
            "Epoch 18/50\n",
            "20/20 [==============================] - 1s 72ms/step - loss: 0.0769 - val_loss: 0.1225\n",
            "Epoch 19/50\n",
            "20/20 [==============================] - 1s 68ms/step - loss: 0.0769 - val_loss: 0.1225\n",
            "Epoch 20/50\n",
            "20/20 [==============================] - 1s 70ms/step - loss: 0.0769 - val_loss: 0.1225\n",
            "Epoch 21/50\n",
            "20/20 [==============================] - 1s 55ms/step - loss: 0.0769 - val_loss: 0.1225\n",
            "Epoch 22/50\n",
            "20/20 [==============================] - 1s 40ms/step - loss: 0.0769 - val_loss: 0.1225\n",
            "Epoch 23/50\n",
            "20/20 [==============================] - 1s 41ms/step - loss: 0.0769 - val_loss: 0.1225\n",
            "Epoch 24/50\n",
            "20/20 [==============================] - 1s 41ms/step - loss: 0.0769 - val_loss: 0.1225\n",
            "Epoch 25/50\n",
            "20/20 [==============================] - 1s 41ms/step - loss: 0.0769 - val_loss: 0.1225\n",
            "Epoch 26/50\n",
            "20/20 [==============================] - 1s 40ms/step - loss: 0.0769 - val_loss: 0.1225\n",
            "Epoch 27/50\n",
            "20/20 [==============================] - 1s 40ms/step - loss: 0.0769 - val_loss: 0.1225\n",
            "Epoch 28/50\n",
            "20/20 [==============================] - 1s 41ms/step - loss: 0.0769 - val_loss: 0.1225\n",
            "Epoch 29/50\n",
            "20/20 [==============================] - 1s 46ms/step - loss: 0.0769 - val_loss: 0.1225\n",
            "Epoch 30/50\n",
            "20/20 [==============================] - 1s 43ms/step - loss: 0.0769 - val_loss: 0.1225\n",
            "Epoch 31/50\n",
            "20/20 [==============================] - 1s 41ms/step - loss: 0.0769 - val_loss: 0.1225\n",
            "Epoch 32/50\n",
            "20/20 [==============================] - 1s 40ms/step - loss: 0.0769 - val_loss: 0.1225\n",
            "Epoch 33/50\n",
            "20/20 [==============================] - 1s 51ms/step - loss: 0.0769 - val_loss: 0.1225\n",
            "Epoch 34/50\n",
            "20/20 [==============================] - 1s 70ms/step - loss: 0.0769 - val_loss: 0.1225\n",
            "Epoch 35/50\n",
            "20/20 [==============================] - 1s 69ms/step - loss: 0.0769 - val_loss: 0.1225\n",
            "Epoch 36/50\n",
            "20/20 [==============================] - 1s 68ms/step - loss: 0.0769 - val_loss: 0.1225\n",
            "Epoch 37/50\n",
            "20/20 [==============================] - 1s 50ms/step - loss: 0.0769 - val_loss: 0.1225\n",
            "Epoch 38/50\n",
            "20/20 [==============================] - 1s 44ms/step - loss: 0.0769 - val_loss: 0.1225\n",
            "Epoch 39/50\n",
            "20/20 [==============================] - 1s 40ms/step - loss: 0.0769 - val_loss: 0.1225\n",
            "Epoch 40/50\n",
            "20/20 [==============================] - 1s 40ms/step - loss: 0.0769 - val_loss: 0.1225\n",
            "Epoch 41/50\n",
            "20/20 [==============================] - 1s 41ms/step - loss: 0.0769 - val_loss: 0.1225\n",
            "Epoch 42/50\n",
            "20/20 [==============================] - 1s 42ms/step - loss: 0.0769 - val_loss: 0.1225\n",
            "Epoch 43/50\n",
            "20/20 [==============================] - 1s 40ms/step - loss: 0.0769 - val_loss: 0.1225\n",
            "Epoch 44/50\n",
            "20/20 [==============================] - 1s 41ms/step - loss: 0.0769 - val_loss: 0.1225\n",
            "Epoch 45/50\n",
            "20/20 [==============================] - 1s 42ms/step - loss: 0.0769 - val_loss: 0.1225\n",
            "Epoch 46/50\n",
            "20/20 [==============================] - 1s 41ms/step - loss: 0.0769 - val_loss: 0.1225\n",
            "Epoch 47/50\n",
            "20/20 [==============================] - 1s 40ms/step - loss: 0.0769 - val_loss: 0.1225\n",
            "Epoch 48/50\n",
            "20/20 [==============================] - 1s 40ms/step - loss: 0.0769 - val_loss: 0.1225\n",
            "Epoch 49/50\n",
            "20/20 [==============================] - 1s 55ms/step - loss: 0.0769 - val_loss: 0.1225\n",
            "Epoch 50/50\n",
            "20/20 [==============================] - 1s 75ms/step - loss: 0.0769 - val_loss: 0.1225\n"
          ]
        },
        {
          "data": {
            "text/plain": [
              "<keras.src.callbacks.History at 0x79e5ff748340>"
            ]
          },
          "execution_count": 27,
          "metadata": {},
          "output_type": "execute_result"
        }
      ],
      "source": [
        "# Huấn luyện mô hình\n",
        "model.fit(X_train, Y_train, epochs=50, batch_size=64, validation_data=(X_val, Y_val))"
      ]
    },
    {
      "cell_type": "code",
      "execution_count": 28,
      "metadata": {
        "colab": {
          "base_uri": "https://localhost:8080/"
        },
        "id": "QGqqnPFCrk0r",
        "outputId": "487e6bd2-2e8a-4351-8cb0-aaf3cf5b2be0"
      },
      "outputs": [
        {
          "name": "stdout",
          "output_type": "stream",
          "text": [
            "13/13 [==============================] - 0s 8ms/step\n",
            "13/13 [==============================] - 0s 8ms/step\n"
          ]
        }
      ],
      "source": [
        "# Dự báo\n",
        "test_predict = model.predict(X_test)\n",
        "val_predict = model.predict(X_val)\n",
        "\n",
        "test_predict = scaler.inverse_transform(test_predict)\n",
        "Y_test = scaler.inverse_transform([Y_test])\n",
        "val_predict = scaler.inverse_transform(val_predict)\n",
        "Y_val = scaler.inverse_transform([Y_val])"
      ]
    },
    {
      "cell_type": "code",
      "execution_count": 29,
      "metadata": {
        "colab": {
          "base_uri": "https://localhost:8080/"
        },
        "id": "4YHFlm39rnM6",
        "outputId": "d020c15d-3a1f-4b7c-81ad-064392ec4ccb"
      },
      "outputs": [
        {
          "name": "stdout",
          "output_type": "stream",
          "text": [
            "RMSE trên tập test là: 38791.21920376223\n",
            "MAPE trên tập test là: 90.80917978953464 %\n",
            "MDA trên tập test là: 0.0 %\n"
          ]
        }
      ],
      "source": [
        "# Hàm tính MDA\n",
        "def calculate_mda(y_true, y_pred):\n",
        "    y_true_diff = np.diff(y_true)\n",
        "    y_pred_diff = np.diff(y_pred)\n",
        "    correct_direction = np.sign(y_true_diff) == np.sign(y_pred_diff)\n",
        "    return np.mean(correct_direction) * 100\n",
        "\n",
        "# Tính toán RMSE, MAE và MAPE trên tập test\n",
        "test_score_rmse = np.sqrt(mean_squared_error(Y_test[0], test_predict[:, 0]))\n",
        "test_score_mape = mean_absolute_percentage_error(Y_test[0], test_predict[:, 0]) * 100\n",
        "test_score_mda = calculate_mda(Y_test[0], test_predict[:, 0])\n",
        "\n",
        "print('RMSE trên tập test là:', test_score_rmse)\n",
        "print('MAPE trên tập test là:', test_score_mape, '%')\n",
        "print('MDA trên tập test là:', test_score_mda, '%')"
      ]
    },
    {
      "cell_type": "code",
      "execution_count": 30,
      "metadata": {
        "colab": {
          "base_uri": "https://localhost:8080/"
        },
        "id": "xz2ZqSUWrsNM",
        "outputId": "80d9f8d7-8384-495f-9355-5b8073e504ca"
      },
      "outputs": [
        {
          "name": "stdout",
          "output_type": "stream",
          "text": [
            "1/1 [==============================] - 0s 22ms/step\n",
            "1/1 [==============================] - 0s 23ms/step\n",
            "1/1 [==============================] - 0s 22ms/step\n",
            "1/1 [==============================] - 0s 25ms/step\n",
            "1/1 [==============================] - 0s 23ms/step\n",
            "1/1 [==============================] - 0s 22ms/step\n",
            "1/1 [==============================] - 0s 26ms/step\n",
            "1/1 [==============================] - 0s 23ms/step\n",
            "1/1 [==============================] - 0s 25ms/step\n",
            "1/1 [==============================] - 0s 26ms/step\n",
            "1/1 [==============================] - 0s 32ms/step\n",
            "1/1 [==============================] - 0s 24ms/step\n",
            "1/1 [==============================] - 0s 24ms/step\n",
            "1/1 [==============================] - 0s 25ms/step\n",
            "1/1 [==============================] - 0s 21ms/step\n",
            "1/1 [==============================] - 0s 23ms/step\n",
            "1/1 [==============================] - 0s 24ms/step\n",
            "1/1 [==============================] - 0s 24ms/step\n",
            "1/1 [==============================] - 0s 27ms/step\n",
            "1/1 [==============================] - 0s 26ms/step\n",
            "1/1 [==============================] - 0s 25ms/step\n",
            "1/1 [==============================] - 0s 29ms/step\n",
            "1/1 [==============================] - 0s 26ms/step\n",
            "1/1 [==============================] - 0s 24ms/step\n",
            "1/1 [==============================] - 0s 24ms/step\n",
            "1/1 [==============================] - 0s 22ms/step\n",
            "1/1 [==============================] - 0s 22ms/step\n",
            "1/1 [==============================] - 0s 22ms/step\n",
            "1/1 [==============================] - 0s 26ms/step\n",
            "1/1 [==============================] - 0s 24ms/step\n",
            "1/1 [==============================] - 0s 23ms/step\n",
            "1/1 [==============================] - 0s 32ms/step\n",
            "1/1 [==============================] - 0s 43ms/step\n",
            "1/1 [==============================] - 0s 48ms/step\n",
            "1/1 [==============================] - 0s 35ms/step\n",
            "1/1 [==============================] - 0s 32ms/step\n",
            "1/1 [==============================] - 0s 41ms/step\n",
            "1/1 [==============================] - 0s 35ms/step\n",
            "1/1 [==============================] - 0s 34ms/step\n",
            "1/1 [==============================] - 0s 36ms/step\n",
            "1/1 [==============================] - 0s 45ms/step\n",
            "1/1 [==============================] - 0s 39ms/step\n",
            "1/1 [==============================] - 0s 33ms/step\n",
            "1/1 [==============================] - 0s 37ms/step\n",
            "1/1 [==============================] - 0s 34ms/step\n",
            "1/1 [==============================] - 0s 37ms/step\n",
            "1/1 [==============================] - 0s 34ms/step\n",
            "1/1 [==============================] - 0s 34ms/step\n",
            "1/1 [==============================] - 0s 35ms/step\n",
            "1/1 [==============================] - 0s 34ms/step\n",
            "1/1 [==============================] - 0s 35ms/step\n",
            "1/1 [==============================] - 0s 31ms/step\n",
            "1/1 [==============================] - 0s 38ms/step\n",
            "1/1 [==============================] - 0s 33ms/step\n",
            "1/1 [==============================] - 0s 36ms/step\n",
            "1/1 [==============================] - 0s 35ms/step\n",
            "1/1 [==============================] - 0s 34ms/step\n",
            "1/1 [==============================] - 0s 35ms/step\n",
            "1/1 [==============================] - 0s 34ms/step\n",
            "1/1 [==============================] - 0s 35ms/step\n",
            "1/1 [==============================] - 0s 47ms/step\n",
            "1/1 [==============================] - 0s 33ms/step\n",
            "1/1 [==============================] - 0s 35ms/step\n",
            "1/1 [==============================] - 0s 32ms/step\n",
            "1/1 [==============================] - 0s 34ms/step\n",
            "1/1 [==============================] - 0s 42ms/step\n",
            "1/1 [==============================] - 0s 34ms/step\n",
            "1/1 [==============================] - 0s 35ms/step\n",
            "1/1 [==============================] - 0s 40ms/step\n",
            "1/1 [==============================] - 0s 27ms/step\n",
            "1/1 [==============================] - 0s 23ms/step\n",
            "1/1 [==============================] - 0s 22ms/step\n",
            "1/1 [==============================] - 0s 25ms/step\n",
            "1/1 [==============================] - 0s 23ms/step\n",
            "1/1 [==============================] - 0s 22ms/step\n",
            "1/1 [==============================] - 0s 32ms/step\n",
            "1/1 [==============================] - 0s 22ms/step\n",
            "1/1 [==============================] - 0s 21ms/step\n",
            "1/1 [==============================] - 0s 22ms/step\n",
            "1/1 [==============================] - 0s 22ms/step\n",
            "1/1 [==============================] - 0s 25ms/step\n",
            "1/1 [==============================] - 0s 28ms/step\n",
            "1/1 [==============================] - 0s 22ms/step\n",
            "1/1 [==============================] - 0s 21ms/step\n",
            "1/1 [==============================] - 0s 22ms/step\n",
            "1/1 [==============================] - 0s 24ms/step\n",
            "1/1 [==============================] - 0s 22ms/step\n",
            "1/1 [==============================] - 0s 27ms/step\n",
            "1/1 [==============================] - 0s 21ms/step\n",
            "1/1 [==============================] - 0s 22ms/step\n",
            "1/1 [==============================] - 0s 21ms/step\n",
            "1/1 [==============================] - 0s 20ms/step\n",
            "1/1 [==============================] - 0s 22ms/step\n",
            "1/1 [==============================] - 0s 23ms/step\n",
            "1/1 [==============================] - 0s 23ms/step\n",
            "1/1 [==============================] - 0s 22ms/step\n",
            "1/1 [==============================] - 0s 22ms/step\n",
            "1/1 [==============================] - 0s 22ms/step\n",
            "1/1 [==============================] - 0s 20ms/step\n",
            "1/1 [==============================] - 0s 23ms/step\n",
            "[[3236.7617]\n",
            " [3236.7617]\n",
            " [3236.7617]\n",
            " [3236.7617]\n",
            " [3236.7617]\n",
            " [3236.7617]\n",
            " [3236.7617]\n",
            " [3236.7617]\n",
            " [3236.7617]\n",
            " [3236.7617]\n",
            " [3236.7617]\n",
            " [3236.7617]\n",
            " [3236.7617]\n",
            " [3236.7617]\n",
            " [3236.7617]\n",
            " [3236.7617]\n",
            " [3236.7617]\n",
            " [3236.7617]\n",
            " [3236.7617]\n",
            " [3236.7617]\n",
            " [3236.7617]\n",
            " [3236.7617]\n",
            " [3236.7617]\n",
            " [3236.7617]\n",
            " [3236.7617]\n",
            " [3236.7617]\n",
            " [3236.7617]\n",
            " [3236.7617]\n",
            " [3236.7617]\n",
            " [3236.7617]\n",
            " [3236.7617]\n",
            " [3236.7617]\n",
            " [3236.7617]\n",
            " [3236.7617]\n",
            " [3236.7617]\n",
            " [3236.7617]\n",
            " [3236.7617]\n",
            " [3236.7617]\n",
            " [3236.7617]\n",
            " [3236.7617]\n",
            " [3236.7617]\n",
            " [3236.7617]\n",
            " [3236.7617]\n",
            " [3236.7617]\n",
            " [3236.7617]\n",
            " [3236.7617]\n",
            " [3236.7617]\n",
            " [3236.7617]\n",
            " [3236.7617]\n",
            " [3236.7617]\n",
            " [3236.7617]\n",
            " [3236.7617]\n",
            " [3236.7617]\n",
            " [3236.7617]\n",
            " [3236.7617]\n",
            " [3236.7617]\n",
            " [3236.7617]\n",
            " [3236.7617]\n",
            " [3236.7617]\n",
            " [3236.7617]\n",
            " [3236.7617]\n",
            " [3236.7617]\n",
            " [3236.7617]\n",
            " [3236.7617]\n",
            " [3236.7617]\n",
            " [3236.7617]\n",
            " [3236.7617]\n",
            " [3236.7617]\n",
            " [3236.7617]\n",
            " [3236.7617]\n",
            " [3236.7617]\n",
            " [3236.7617]\n",
            " [3236.7617]\n",
            " [3236.7617]\n",
            " [3236.7617]\n",
            " [3236.7617]\n",
            " [3236.7617]\n",
            " [3236.7617]\n",
            " [3236.7617]\n",
            " [3236.7617]\n",
            " [3236.7617]\n",
            " [3236.7617]\n",
            " [3236.7617]\n",
            " [3236.7617]\n",
            " [3236.7617]\n",
            " [3236.7617]\n",
            " [3236.7617]\n",
            " [3236.7617]\n",
            " [3236.7617]\n",
            " [3236.7617]\n",
            " [3236.7617]\n",
            " [3236.7617]\n",
            " [3236.7617]\n",
            " [3236.7617]\n",
            " [3236.7617]\n",
            " [3236.7617]\n",
            " [3236.7617]\n",
            " [3236.7617]\n",
            " [3236.7617]\n",
            " [3236.7617]]\n"
          ]
        }
      ],
      "source": [
        "# Dự báo giá trị 100 ngày trong tương lai\n",
        "last_100_days = price_scaled[-100:]\n",
        "next_100_days = []\n",
        "for i in range(100):\n",
        "    x = last_100_days[-look_back:].reshape(1, look_back, 1)\n",
        "    y_hat = model.predict(x)\n",
        "    next_100_days.append(y_hat)\n",
        "    last_100_days = np.append(last_100_days, y_hat, axis=0)\n",
        "\n",
        "next_100_days = np.array(next_100_days).reshape(-1, 1)\n",
        "next_100_days = scaler.inverse_transform(next_100_days)\n",
        "\n",
        "print(next_100_days)"
      ]
    },
    {
      "cell_type": "code",
      "execution_count": 31,
      "metadata": {
        "id": "qMMbGPn5sZcl"
      },
      "outputs": [],
      "source": [
        "test_predict_df = pd.DataFrame(test_predict)\n",
        "test_predict_index = range(len(train_data)+look_back, len(train_data)+look_back+len(test_predict))\n",
        "test_predict_df.index = test_predict_index\n",
        "\n",
        "val_predict_df = pd.DataFrame(val_predict)\n",
        "val_predict_index = range(len(train_data)+len(test_data)+look_back, len(train_data)+len(test_data)+look_back+len(val_predict))\n",
        "val_predict_df.index = val_predict_index\n",
        "\n",
        "next_100_days_df = pd.DataFrame(next_100_days)\n",
        "next_100_index = range(len(data), len(data)+len(next_100_days))\n",
        "next_100_days_df.index = next_100_index\n",
        "\n",
        "train_data_df = data[:train_size][['Close']]\n",
        "test_data_df = data[train_size:train_size + test_size][['Close']]\n",
        "val_data_df = data[train_size+test_size:][['Close']]"
      ]
    },
    {
      "cell_type": "code",
      "execution_count": 32,
      "metadata": {
        "colab": {
          "base_uri": "https://localhost:8080/",
          "height": 431
        },
        "id": "ZqgjGLuzsisj",
        "outputId": "d2a6b997-c4b3-4cfd-8814-3f23eb39328e"
      },
      "outputs": [
        {
          "data": {
            "image/png": "[encoded data removed]",
            "text/plain": [
              "<Figure size 640x480 with 1 Axes>"
            ]
          },
          "metadata": {},
          "output_type": "display_data"
        }
      ],
      "source": [
        "# Vẽ đồ thị các giá trị từ train tới validate và dự đoán 100 ngày sau\n",
        "plt.plot(train_data_df, label='Train')\n",
        "plt.plot(test_data_df, label='Actual Test')\n",
        "plt.plot(test_predict_df, label='Predicted Test')\n",
        "plt.plot(val_data_df, label='Validate')\n",
        "plt.plot(val_predict_df, label='Predicted Validate')\n",
        "plt.plot(next_100_days_df, label='Next 100 days')\n",
        "plt.legend()\n",
        "plt.show()"
      ]
    }
  ],
  "metadata": {
    "colab": {
      "provenance": []
    },
    "kernelspec": {
      "display_name": "Python 3",
      "name": "python3"
    },
    "language_info": {
      "name": "python"
    }
  },
  "nbformat": 4,
  "nbformat_minor": 0
}
